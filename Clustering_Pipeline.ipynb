{
  "cells": [
    {
      "cell_type": "markdown",
      "id": "3845ba33-6af3-4fcc-939f-4a8eed911537",
      "metadata": {
        "id": "3845ba33-6af3-4fcc-939f-4a8eed911537"
      },
      "source": [
        "#### Importing libraries"
      ]
    },
    {
      "cell_type": "code",
      "execution_count": null,
      "id": "68d1bc7e-1210-4c37-8ff8-333cc9ed6e1b",
      "metadata": {
        "id": "68d1bc7e-1210-4c37-8ff8-333cc9ed6e1b"
      },
      "outputs": [],
      "source": [
        "import numpy as np # linear algebra\n",
        "import pandas as pd # data processing, xls file I/O (e.g. pd.read_excel)\n",
        "import re # regular expression\n",
        "\n",
        "# Data Visualization\n",
        "import matplotlib.pyplot as plt\n",
        "import seaborn as sns\n",
        "\n",
        "# Making blobs & K-Means\n",
        "from sklearn.datasets import make_blobs\n",
        "from sklearn.cluster import KMeans\n",
        "\n",
        "import warnings\n",
        "warnings.filterwarnings(\"ignore\")"
      ]
    },
    {
      "cell_type": "code",
      "source": [
        "from google.colab import drive\n",
        "drive.mount('/content/drive')"
      ],
      "metadata": {
        "colab": {
          "base_uri": "https://localhost:8080/"
        },
        "id": "1LBu9KAoaC7_",
        "outputId": "abd1ae91-4c88-4bf4-ee2d-d1107d3755c7"
      },
      "id": "1LBu9KAoaC7_",
      "execution_count": null,
      "outputs": [
        {
          "output_type": "stream",
          "name": "stdout",
          "text": [
            "Mounted at /content/drive\n"
          ]
        }
      ]
    },
    {
      "cell_type": "markdown",
      "id": "896d9cb0-0970-4a2b-9111-f1b06f6d9c51",
      "metadata": {
        "id": "896d9cb0-0970-4a2b-9111-f1b06f6d9c51"
      },
      "source": [
        "#### Loading dataset"
      ]
    },
    {
      "cell_type": "code",
      "execution_count": null,
      "id": "78b0bf48-e4fd-4317-9455-fe6a395d1174",
      "metadata": {
        "id": "78b0bf48-e4fd-4317-9455-fe6a395d1174"
      },
      "outputs": [],
      "source": [
        "#!pip install openpyxl"
      ]
    },
    {
      "cell_type": "code",
      "execution_count": null,
      "id": "3d32dc81-96c4-45f4-97fd-6298173c3c2b",
      "metadata": {
        "colab": {
          "base_uri": "https://localhost:8080/",
          "height": 560
        },
        "id": "3d32dc81-96c4-45f4-97fd-6298173c3c2b",
        "outputId": "db04f2b8-dd4e-426a-8e8c-ca941d0385b5"
      },
      "outputs": [
        {
          "output_type": "execute_result",
          "data": {
            "text/plain": [
              "        NW Producer Active Agy  Agy Code     MKTG Manager        Large UW  \\\n",
              "0     ABD INSURANCE        Yes  CAH07857  Depika Narewatt     Paul Sasaki   \n",
              "1  ACK Holdings LLC         No  AZH06748      Tim OConnor  Tiffany Banzon   \n",
              "2     Acrisure, LLC        Yes  AKH00247     Erica Barlow   Kilby Hammond   \n",
              "3     Acrisure, LLC        Yes  AKH01123     Erica Barlow   Kilby Hammond   \n",
              "4     Acrisure, LLC         No  ARH05712        Eric Rose   Brad Grimmett   \n",
              "\n",
              "                                     Agy Name         Agy City Agy State  \\\n",
              "0  ABD INSURANCE AND FINANCIAL SERVICES, INC.        San Mateo        CA   \n",
              "1              STRATEGIC RISK SOLUTIONS GROUP  Paradise Valley        AZ   \n",
              "2                             RISQ CONSULTING        Anchorage        AK   \n",
              "3                             RISQ CONSULTING        Fairbanks        AK   \n",
              "4                          THE HATCHER AGENCY      Little Rock        AR   \n",
              "\n",
              "  Production Source  Inforce #  ...  Renew QTD WP  Renew BND WP  RRR (WP)  \\\n",
              "0          Retailer       27.0  ...     3971517.0     3134861.0  0.789336   \n",
              "1          Retailer        NaN  ...           NaN           NaN       NaN   \n",
              "2          Retailer       19.0  ...     1174593.0      610966.0  0.520151   \n",
              "3          Retailer        2.0  ...       49417.0       49417.0  1.000000   \n",
              "4          Retailer        NaN  ...           NaN           NaN       NaN   \n",
              "\n",
              "   New BND WP  Prior New BND WP  YoY New WP   3-Pol YR EP  \\\n",
              "0   3725186.0          101643.0    4.807827  8.821422e+06   \n",
              "1         NaN               NaN         NaN  5.400360e+05   \n",
              "2    610966.0            7559.0   -1.000000  3.871166e+06   \n",
              "3     49417.0               NaN         NaN  2.193366e+05   \n",
              "4         NaN               NaN         NaN  0.000000e+00   \n",
              "\n",
              "   3-Pol YR Incurred L&LAE  3 YR Loss Ratio  3 YR Loss Ratio Rel  \n",
              "0               1669578.00         0.189264             0.437068  \n",
              "1                241421.97         0.447048             1.032369  \n",
              "2               1692937.65         0.437320             1.009904  \n",
              "3                215853.25         0.984119             2.272629  \n",
              "4                     0.00              NaN                  NaN  \n",
              "\n",
              "[5 rows x 38 columns]"
            ],
            "text/html": [
              "\n",
              "  <div id=\"df-7853e0cc-f189-4cc4-b567-880dd7030aab\">\n",
              "    <div class=\"colab-df-container\">\n",
              "      <div>\n",
              "<style scoped>\n",
              "    .dataframe tbody tr th:only-of-type {\n",
              "        vertical-align: middle;\n",
              "    }\n",
              "\n",
              "    .dataframe tbody tr th {\n",
              "        vertical-align: top;\n",
              "    }\n",
              "\n",
              "    .dataframe thead th {\n",
              "        text-align: right;\n",
              "    }\n",
              "</style>\n",
              "<table border=\"1\" class=\"dataframe\">\n",
              "  <thead>\n",
              "    <tr style=\"text-align: right;\">\n",
              "      <th></th>\n",
              "      <th>NW Producer</th>\n",
              "      <th>Active Agy</th>\n",
              "      <th>Agy Code</th>\n",
              "      <th>MKTG Manager</th>\n",
              "      <th>Large UW</th>\n",
              "      <th>Agy Name</th>\n",
              "      <th>Agy City</th>\n",
              "      <th>Agy State</th>\n",
              "      <th>Production Source</th>\n",
              "      <th>Inforce #</th>\n",
              "      <th>...</th>\n",
              "      <th>Renew QTD WP</th>\n",
              "      <th>Renew BND WP</th>\n",
              "      <th>RRR (WP)</th>\n",
              "      <th>New BND WP</th>\n",
              "      <th>Prior New BND WP</th>\n",
              "      <th>YoY New WP</th>\n",
              "      <th>3-Pol YR EP</th>\n",
              "      <th>3-Pol YR Incurred L&amp;LAE</th>\n",
              "      <th>3 YR Loss Ratio</th>\n",
              "      <th>3 YR Loss Ratio Rel</th>\n",
              "    </tr>\n",
              "  </thead>\n",
              "  <tbody>\n",
              "    <tr>\n",
              "      <th>0</th>\n",
              "      <td>ABD INSURANCE</td>\n",
              "      <td>Yes</td>\n",
              "      <td>CAH07857</td>\n",
              "      <td>Depika Narewatt</td>\n",
              "      <td>Paul Sasaki</td>\n",
              "      <td>ABD INSURANCE AND FINANCIAL SERVICES, INC.</td>\n",
              "      <td>San Mateo</td>\n",
              "      <td>CA</td>\n",
              "      <td>Retailer</td>\n",
              "      <td>27.0</td>\n",
              "      <td>...</td>\n",
              "      <td>3971517.0</td>\n",
              "      <td>3134861.0</td>\n",
              "      <td>0.789336</td>\n",
              "      <td>3725186.0</td>\n",
              "      <td>101643.0</td>\n",
              "      <td>4.807827</td>\n",
              "      <td>8.821422e+06</td>\n",
              "      <td>1669578.00</td>\n",
              "      <td>0.189264</td>\n",
              "      <td>0.437068</td>\n",
              "    </tr>\n",
              "    <tr>\n",
              "      <th>1</th>\n",
              "      <td>ACK Holdings LLC</td>\n",
              "      <td>No</td>\n",
              "      <td>AZH06748</td>\n",
              "      <td>Tim OConnor</td>\n",
              "      <td>Tiffany Banzon</td>\n",
              "      <td>STRATEGIC RISK SOLUTIONS GROUP</td>\n",
              "      <td>Paradise Valley</td>\n",
              "      <td>AZ</td>\n",
              "      <td>Retailer</td>\n",
              "      <td>NaN</td>\n",
              "      <td>...</td>\n",
              "      <td>NaN</td>\n",
              "      <td>NaN</td>\n",
              "      <td>NaN</td>\n",
              "      <td>NaN</td>\n",
              "      <td>NaN</td>\n",
              "      <td>NaN</td>\n",
              "      <td>5.400360e+05</td>\n",
              "      <td>241421.97</td>\n",
              "      <td>0.447048</td>\n",
              "      <td>1.032369</td>\n",
              "    </tr>\n",
              "    <tr>\n",
              "      <th>2</th>\n",
              "      <td>Acrisure, LLC</td>\n",
              "      <td>Yes</td>\n",
              "      <td>AKH00247</td>\n",
              "      <td>Erica Barlow</td>\n",
              "      <td>Kilby Hammond</td>\n",
              "      <td>RISQ CONSULTING</td>\n",
              "      <td>Anchorage</td>\n",
              "      <td>AK</td>\n",
              "      <td>Retailer</td>\n",
              "      <td>19.0</td>\n",
              "      <td>...</td>\n",
              "      <td>1174593.0</td>\n",
              "      <td>610966.0</td>\n",
              "      <td>0.520151</td>\n",
              "      <td>610966.0</td>\n",
              "      <td>7559.0</td>\n",
              "      <td>-1.000000</td>\n",
              "      <td>3.871166e+06</td>\n",
              "      <td>1692937.65</td>\n",
              "      <td>0.437320</td>\n",
              "      <td>1.009904</td>\n",
              "    </tr>\n",
              "    <tr>\n",
              "      <th>3</th>\n",
              "      <td>Acrisure, LLC</td>\n",
              "      <td>Yes</td>\n",
              "      <td>AKH01123</td>\n",
              "      <td>Erica Barlow</td>\n",
              "      <td>Kilby Hammond</td>\n",
              "      <td>RISQ CONSULTING</td>\n",
              "      <td>Fairbanks</td>\n",
              "      <td>AK</td>\n",
              "      <td>Retailer</td>\n",
              "      <td>2.0</td>\n",
              "      <td>...</td>\n",
              "      <td>49417.0</td>\n",
              "      <td>49417.0</td>\n",
              "      <td>1.000000</td>\n",
              "      <td>49417.0</td>\n",
              "      <td>NaN</td>\n",
              "      <td>NaN</td>\n",
              "      <td>2.193366e+05</td>\n",
              "      <td>215853.25</td>\n",
              "      <td>0.984119</td>\n",
              "      <td>2.272629</td>\n",
              "    </tr>\n",
              "    <tr>\n",
              "      <th>4</th>\n",
              "      <td>Acrisure, LLC</td>\n",
              "      <td>No</td>\n",
              "      <td>ARH05712</td>\n",
              "      <td>Eric Rose</td>\n",
              "      <td>Brad Grimmett</td>\n",
              "      <td>THE HATCHER AGENCY</td>\n",
              "      <td>Little Rock</td>\n",
              "      <td>AR</td>\n",
              "      <td>Retailer</td>\n",
              "      <td>NaN</td>\n",
              "      <td>...</td>\n",
              "      <td>NaN</td>\n",
              "      <td>NaN</td>\n",
              "      <td>NaN</td>\n",
              "      <td>NaN</td>\n",
              "      <td>NaN</td>\n",
              "      <td>NaN</td>\n",
              "      <td>0.000000e+00</td>\n",
              "      <td>0.00</td>\n",
              "      <td>NaN</td>\n",
              "      <td>NaN</td>\n",
              "    </tr>\n",
              "  </tbody>\n",
              "</table>\n",
              "<p>5 rows × 38 columns</p>\n",
              "</div>\n",
              "      <button class=\"colab-df-convert\" onclick=\"convertToInteractive('df-7853e0cc-f189-4cc4-b567-880dd7030aab')\"\n",
              "              title=\"Convert this dataframe to an interactive table.\"\n",
              "              style=\"display:none;\">\n",
              "        \n",
              "  <svg xmlns=\"http://www.w3.org/2000/svg\" height=\"24px\"viewBox=\"0 0 24 24\"\n",
              "       width=\"24px\">\n",
              "    <path d=\"M0 0h24v24H0V0z\" fill=\"none\"/>\n",
              "    <path d=\"M18.56 5.44l.94 2.06.94-2.06 2.06-.94-2.06-.94-.94-2.06-.94 2.06-2.06.94zm-11 1L8.5 8.5l.94-2.06 2.06-.94-2.06-.94L8.5 2.5l-.94 2.06-2.06.94zm10 10l.94 2.06.94-2.06 2.06-.94-2.06-.94-.94-2.06-.94 2.06-2.06.94z\"/><path d=\"M17.41 7.96l-1.37-1.37c-.4-.4-.92-.59-1.43-.59-.52 0-1.04.2-1.43.59L10.3 9.45l-7.72 7.72c-.78.78-.78 2.05 0 2.83L4 21.41c.39.39.9.59 1.41.59.51 0 1.02-.2 1.41-.59l7.78-7.78 2.81-2.81c.8-.78.8-2.07 0-2.86zM5.41 20L4 18.59l7.72-7.72 1.47 1.35L5.41 20z\"/>\n",
              "  </svg>\n",
              "      </button>\n",
              "      \n",
              "  <style>\n",
              "    .colab-df-container {\n",
              "      display:flex;\n",
              "      flex-wrap:wrap;\n",
              "      gap: 12px;\n",
              "    }\n",
              "\n",
              "    .colab-df-convert {\n",
              "      background-color: #E8F0FE;\n",
              "      border: none;\n",
              "      border-radius: 50%;\n",
              "      cursor: pointer;\n",
              "      display: none;\n",
              "      fill: #1967D2;\n",
              "      height: 32px;\n",
              "      padding: 0 0 0 0;\n",
              "      width: 32px;\n",
              "    }\n",
              "\n",
              "    .colab-df-convert:hover {\n",
              "      background-color: #E2EBFA;\n",
              "      box-shadow: 0px 1px 2px rgba(60, 64, 67, 0.3), 0px 1px 3px 1px rgba(60, 64, 67, 0.15);\n",
              "      fill: #174EA6;\n",
              "    }\n",
              "\n",
              "    [theme=dark] .colab-df-convert {\n",
              "      background-color: #3B4455;\n",
              "      fill: #D2E3FC;\n",
              "    }\n",
              "\n",
              "    [theme=dark] .colab-df-convert:hover {\n",
              "      background-color: #434B5C;\n",
              "      box-shadow: 0px 1px 3px 1px rgba(0, 0, 0, 0.15);\n",
              "      filter: drop-shadow(0px 1px 2px rgba(0, 0, 0, 0.3));\n",
              "      fill: #FFFFFF;\n",
              "    }\n",
              "  </style>\n",
              "\n",
              "      <script>\n",
              "        const buttonEl =\n",
              "          document.querySelector('#df-7853e0cc-f189-4cc4-b567-880dd7030aab button.colab-df-convert');\n",
              "        buttonEl.style.display =\n",
              "          google.colab.kernel.accessAllowed ? 'block' : 'none';\n",
              "\n",
              "        async function convertToInteractive(key) {\n",
              "          const element = document.querySelector('#df-7853e0cc-f189-4cc4-b567-880dd7030aab');\n",
              "          const dataTable =\n",
              "            await google.colab.kernel.invokeFunction('convertToInteractive',\n",
              "                                                     [key], {});\n",
              "          if (!dataTable) return;\n",
              "\n",
              "          const docLinkHtml = 'Like what you see? Visit the ' +\n",
              "            '<a target=\"_blank\" href=https://colab.research.google.com/notebooks/data_table.ipynb>data table notebook</a>'\n",
              "            + ' to learn more about interactive tables.';\n",
              "          element.innerHTML = '';\n",
              "          dataTable['output_type'] = 'display_data';\n",
              "          await google.colab.output.renderOutput(dataTable, element);\n",
              "          const docLink = document.createElement('div');\n",
              "          docLink.innerHTML = docLinkHtml;\n",
              "          element.appendChild(docLink);\n",
              "        }\n",
              "      </script>\n",
              "    </div>\n",
              "  </div>\n",
              "  "
            ]
          },
          "metadata": {},
          "execution_count": 4
        }
      ],
      "source": [
        "def load(): \n",
        "    df = pd.read_excel('/content/drive/MyDrive/Datasets/Producer_Grading.xlsx')\n",
        "    return df\n",
        "\n",
        "df = load()\n",
        "df.head()"
      ]
    },
    {
      "cell_type": "markdown",
      "id": "8b8e1274-fed7-4f2d-a7a7-aa783fd9eec2",
      "metadata": {
        "id": "8b8e1274-fed7-4f2d-a7a7-aa783fd9eec2"
      },
      "source": [
        "#### Checking shape : Total number of rows and columns"
      ]
    },
    {
      "cell_type": "code",
      "execution_count": null,
      "id": "188f0fce-8d64-4d61-9a07-7f8d9be41999",
      "metadata": {
        "id": "188f0fce-8d64-4d61-9a07-7f8d9be41999"
      },
      "outputs": [],
      "source": [
        "# Since last 3 rows has totals, textual details. Removing it"
      ]
    },
    {
      "cell_type": "code",
      "execution_count": null,
      "id": "362b5fda-008f-4d93-831b-b9c04ede6fdc",
      "metadata": {
        "colab": {
          "base_uri": "https://localhost:8080/"
        },
        "id": "362b5fda-008f-4d93-831b-b9c04ede6fdc",
        "outputId": "f015b260-8581-415d-d41e-cee31d36b8ea"
      },
      "outputs": [
        {
          "output_type": "execute_result",
          "data": {
            "text/plain": [
              "(1237, 38)"
            ]
          },
          "metadata": {},
          "execution_count": 5
        }
      ],
      "source": [
        "def check_shape(df):\n",
        "    df.drop(df.tail(3).index,inplace = True)\n",
        "    dfs = df.shape\n",
        "    return dfs\n",
        "\n",
        "check_shape(df)"
      ]
    },
    {
      "cell_type": "markdown",
      "id": "eca98c96-7d49-4d54-a5be-0c9ed2034ba5",
      "metadata": {
        "id": "eca98c96-7d49-4d54-a5be-0c9ed2034ba5"
      },
      "source": [
        "#### Checking datatypes"
      ]
    },
    {
      "cell_type": "code",
      "execution_count": null,
      "id": "8397026e-258b-4ed8-9599-2416b35ff04c",
      "metadata": {
        "id": "8397026e-258b-4ed8-9599-2416b35ff04c",
        "outputId": "4a41bbe0-b44c-4963-bf14-e5254bb2f5f0"
      },
      "outputs": [
        {
          "name": "stdout",
          "output_type": "stream",
          "text": [
            "<class 'pandas.core.frame.DataFrame'>\n",
            "Int64Index: 1237 entries, 0 to 1236\n",
            "Data columns (total 38 columns):\n",
            " #   Column                   Non-Null Count  Dtype  \n",
            "---  ------                   --------------  -----  \n",
            " 0   NW Producer              1235 non-null   object \n",
            " 1   Active Agy               1237 non-null   object \n",
            " 2   Agy Code                 1237 non-null   object \n",
            " 3   MKTG Manager             1231 non-null   object \n",
            " 4   Large UW                 1225 non-null   object \n",
            " 5   Agy Name                 1237 non-null   object \n",
            " 6   Agy City                 1237 non-null   object \n",
            " 7   Agy State                1237 non-null   object \n",
            " 8   Production Source        1237 non-null   object \n",
            " 9   Inforce #                674 non-null    float64\n",
            " 10  Inforce WP               674 non-null    float64\n",
            " 11  Prior Inforce #          706 non-null    float64\n",
            " 12  Prior Inforce WP         706 non-null    float64\n",
            " 13  YoY Inforce WP           706 non-null    float64\n",
            " 14  New Sub                  977 non-null    float64\n",
            " 15  New QTD                  838 non-null    float64\n",
            " 16  Quote Rate               706 non-null    float64\n",
            " 17  Prior New Sub            989 non-null    float64\n",
            " 18  Prior New QTD            744 non-null    float64\n",
            " 19  Prior Quote Rate         744 non-null    float64\n",
            " 20  YoY: New Sub             853 non-null    float64\n",
            " 21  New BND                  317 non-null    float64\n",
            " 22  Hit Rate                 317 non-null    float64\n",
            " 23  Prior New BND            709 non-null    float64\n",
            " 24  Prior Hit Rate           357 non-null    float64\n",
            " 25  Renew QTD                683 non-null    float64\n",
            " 26  Renew BND                651 non-null    float64\n",
            " 27  RRR (#)                  651 non-null    float64\n",
            " 28  Renew QTD WP             683 non-null    float64\n",
            " 29  Renew BND WP             651 non-null    float64\n",
            " 30  RRR (WP)                 651 non-null    float64\n",
            " 31  New BND WP               683 non-null    float64\n",
            " 32  Prior New BND WP         357 non-null    float64\n",
            " 33  YoY New WP               357 non-null    float64\n",
            " 34  3-Pol YR EP              1217 non-null   float64\n",
            " 35  3-Pol YR Incurred L&LAE  1217 non-null   float64\n",
            " 36  3 YR Loss Ratio          843 non-null    float64\n",
            " 37  3 YR Loss Ratio Rel      843 non-null    float64\n",
            "dtypes: float64(29), object(9)\n",
            "memory usage: 376.9+ KB\n"
          ]
        }
      ],
      "source": [
        "def check_dtype(df):\n",
        "    dfi = df.info()\n",
        "    return dfi\n",
        "\n",
        "check_dtype(df)"
      ]
    },
    {
      "cell_type": "markdown",
      "id": "a85b2795-9ac3-4f50-8ec1-ae79c48c4004",
      "metadata": {
        "id": "a85b2795-9ac3-4f50-8ec1-ae79c48c4004"
      },
      "source": [
        "#### Checking duplicates"
      ]
    },
    {
      "cell_type": "code",
      "execution_count": null,
      "id": "95ddbcc1-5e61-4bca-a6b1-efd2634b6263",
      "metadata": {
        "id": "95ddbcc1-5e61-4bca-a6b1-efd2634b6263",
        "outputId": "d13679d5-83f3-4dea-da01-ea1efa7a24c4"
      },
      "outputs": [
        {
          "data": {
            "text/plain": [
              "(0, 38)"
            ]
          },
          "execution_count": 121,
          "metadata": {},
          "output_type": "execute_result"
        }
      ],
      "source": [
        "def check_duplicates(df):\n",
        "    dfd = df[df.duplicated()]\n",
        "    dfdn = dfd.shape\n",
        "    return dfdn\n",
        "\n",
        "check_duplicates(df)"
      ]
    },
    {
      "cell_type": "markdown",
      "id": "5c85d4d3-5100-4973-9f46-2cc26e7600de",
      "metadata": {
        "id": "5c85d4d3-5100-4973-9f46-2cc26e7600de"
      },
      "source": [
        "#### Checking Null values"
      ]
    },
    {
      "cell_type": "code",
      "execution_count": null,
      "id": "3e728169-29b8-40d9-9d8f-dbab7a891a42",
      "metadata": {
        "id": "3e728169-29b8-40d9-9d8f-dbab7a891a42",
        "outputId": "422c0ff4-33cc-4004-bcc7-768c1fff9068"
      },
      "outputs": [
        {
          "data": {
            "text/plain": [
              "NW Producer                  2\n",
              "Active Agy                   0\n",
              "Agy Code                     0\n",
              "MKTG Manager                 6\n",
              "Large UW                    12\n",
              "Agy Name                     0\n",
              "Agy City                     0\n",
              "Agy State                    0\n",
              "Production Source            0\n",
              "Inforce #                  563\n",
              "Inforce WP                 563\n",
              "Prior Inforce #            531\n",
              "Prior Inforce WP           531\n",
              "YoY Inforce WP             531\n",
              "New Sub                    260\n",
              "New QTD                    399\n",
              "Quote Rate                 531\n",
              "Prior New Sub              248\n",
              "Prior New QTD              493\n",
              "Prior Quote Rate           493\n",
              "YoY: New Sub               384\n",
              "New BND                    920\n",
              "Hit Rate                   920\n",
              "Prior New BND              528\n",
              "Prior Hit Rate             880\n",
              "Renew QTD                  554\n",
              "Renew BND                  586\n",
              "RRR (#)                    586\n",
              "Renew QTD WP               554\n",
              "Renew BND WP               586\n",
              "RRR (WP)                   586\n",
              "New BND WP                 554\n",
              "Prior New BND WP           880\n",
              "YoY New WP                 880\n",
              "3-Pol YR EP                 20\n",
              "3-Pol YR Incurred L&LAE     20\n",
              "3 YR Loss Ratio            394\n",
              "3 YR Loss Ratio Rel        394\n",
              "dtype: int64"
            ]
          },
          "execution_count": 122,
          "metadata": {},
          "output_type": "execute_result"
        }
      ],
      "source": [
        "def check_null_val(df):\n",
        "    dfnv = df.isna().sum()\n",
        "    return dfnv\n",
        "    \n",
        "check_null_val(df)"
      ]
    },
    {
      "cell_type": "markdown",
      "id": "1ac1073c-f70d-43a3-af6e-377bce4b80ff",
      "metadata": {
        "id": "1ac1073c-f70d-43a3-af6e-377bce4b80ff"
      },
      "source": [
        "#### Percentage of Null values"
      ]
    },
    {
      "cell_type": "code",
      "execution_count": null,
      "id": "f0d78964-4826-4346-bdc4-ee495603db74",
      "metadata": {
        "id": "f0d78964-4826-4346-bdc4-ee495603db74",
        "outputId": "e886436b-7a69-4c8f-87c1-d46567d6ff7b"
      },
      "outputs": [
        {
          "data": {
            "text/plain": [
              "NW Producer                 0.161681\n",
              "Active Agy                  0.000000\n",
              "Agy Code                    0.000000\n",
              "MKTG Manager                0.485044\n",
              "Large UW                    0.970089\n",
              "Agy Name                    0.000000\n",
              "Agy City                    0.000000\n",
              "Agy State                   0.000000\n",
              "Production Source           0.000000\n",
              "Inforce #                  45.513339\n",
              "Inforce WP                 45.513339\n",
              "Prior Inforce #            42.926435\n",
              "Prior Inforce WP           42.926435\n",
              "YoY Inforce WP             42.926435\n",
              "New Sub                    21.018593\n",
              "New QTD                    32.255457\n",
              "Quote Rate                 42.926435\n",
              "Prior New Sub              20.048504\n",
              "Prior New QTD              39.854487\n",
              "Prior Quote Rate           39.854487\n",
              "YoY: New Sub               31.042846\n",
              "New BND                    74.373484\n",
              "Hit Rate                   74.373484\n",
              "Prior New BND              42.683913\n",
              "Prior Hit Rate             71.139854\n",
              "Renew QTD                  44.785772\n",
              "Renew BND                  47.372676\n",
              "RRR (#)                    47.372676\n",
              "Renew QTD WP               44.785772\n",
              "Renew BND WP               47.372676\n",
              "RRR (WP)                   47.372676\n",
              "New BND WP                 44.785772\n",
              "Prior New BND WP           71.139854\n",
              "YoY New WP                 71.139854\n",
              "3-Pol YR EP                 1.616815\n",
              "3-Pol YR Incurred L&LAE     1.616815\n",
              "3 YR Loss Ratio            31.851253\n",
              "3 YR Loss Ratio Rel        31.851253\n",
              "dtype: float64"
            ]
          },
          "execution_count": 123,
          "metadata": {},
          "output_type": "execute_result"
        }
      ],
      "source": [
        "def check_null_per(df):\n",
        "    dfnp = df.isnull().sum() * 100 / len(df)\n",
        "    return dfnp\n",
        "\n",
        "check_null_per(df)"
      ]
    },
    {
      "cell_type": "markdown",
      "id": "bff1ddb1-4ef6-4dee-adc0-cf8afc05cd3f",
      "metadata": {
        "id": "bff1ddb1-4ef6-4dee-adc0-cf8afc05cd3f"
      },
      "source": [
        "#### Unique Value Counts"
      ]
    },
    {
      "cell_type": "code",
      "execution_count": null,
      "id": "4e8af550-33b9-4314-8973-62729502fcfd",
      "metadata": {
        "id": "4e8af550-33b9-4314-8973-62729502fcfd",
        "outputId": "979ab99d-a979-4890-cf82-09080b7dac60"
      },
      "outputs": [
        {
          "data": {
            "text/plain": [
              "NW Producer                 448\n",
              "Active Agy                    2\n",
              "Agy Code                   1237\n",
              "MKTG Manager                 21\n",
              "Large UW                     58\n",
              "Agy Name                    787\n",
              "Agy City                    517\n",
              "Agy State                    48\n",
              "Production Source             2\n",
              "Inforce #                    73\n",
              "Inforce WP                  673\n",
              "Prior Inforce #              78\n",
              "Prior Inforce WP            706\n",
              "YoY Inforce WP              623\n",
              "New Sub                     161\n",
              "New QTD                     123\n",
              "Quote Rate                  259\n",
              "Prior New Sub               149\n",
              "Prior New QTD                85\n",
              "Prior Quote Rate            266\n",
              "YoY: New Sub                354\n",
              "New BND                      26\n",
              "Hit Rate                    122\n",
              "Prior New BND                76\n",
              "Prior Hit Rate              125\n",
              "Renew QTD                    78\n",
              "Renew BND                    71\n",
              "RRR (#)                     115\n",
              "Renew QTD WP                680\n",
              "Renew BND WP                651\n",
              "RRR (WP)                    298\n",
              "New BND WP                  682\n",
              "Prior New BND WP            357\n",
              "YoY New WP                  206\n",
              "3-Pol YR EP                 844\n",
              "3-Pol YR Incurred L&LAE     770\n",
              "3 YR Loss Ratio             770\n",
              "3 YR Loss Ratio Rel         770\n",
              "dtype: int64"
            ]
          },
          "execution_count": 124,
          "metadata": {},
          "output_type": "execute_result"
        }
      ],
      "source": [
        "def unique_val(df):\n",
        "    dfu = df.nunique()\n",
        "    return dfu\n",
        "\n",
        "unique_val(df)"
      ]
    },
    {
      "cell_type": "markdown",
      "id": "d158ab22-0d76-4a74-aace-ae1d7feaac62",
      "metadata": {
        "id": "d158ab22-0d76-4a74-aace-ae1d7feaac62"
      },
      "source": [
        "#### Zero Value Counts"
      ]
    },
    {
      "cell_type": "code",
      "execution_count": null,
      "id": "e581e0c1-dcc7-4dce-996b-01ddf1119d38",
      "metadata": {
        "id": "e581e0c1-dcc7-4dce-996b-01ddf1119d38",
        "outputId": "3697a674-d957-4701-c810-6acb40bde939"
      },
      "outputs": [
        {
          "data": {
            "text/plain": [
              "NW Producer                  0\n",
              "Active Agy                   0\n",
              "Agy Code                     0\n",
              "MKTG Manager                 0\n",
              "Large UW                     0\n",
              "Agy Name                     0\n",
              "Agy City                     0\n",
              "Agy State                    0\n",
              "Production Source            0\n",
              "Inforce #                    0\n",
              "Inforce WP                   0\n",
              "Prior Inforce #              0\n",
              "Prior Inforce WP             0\n",
              "YoY Inforce WP               0\n",
              "New Sub                      0\n",
              "New QTD                      0\n",
              "Quote Rate                   0\n",
              "Prior New Sub                0\n",
              "Prior New QTD                0\n",
              "Prior Quote Rate             0\n",
              "YoY: New Sub                91\n",
              "New BND                      0\n",
              "Hit Rate                     0\n",
              "Prior New BND                0\n",
              "Prior Hit Rate               0\n",
              "Renew QTD                    0\n",
              "Renew BND                    0\n",
              "RRR (#)                      0\n",
              "Renew QTD WP                 4\n",
              "Renew BND WP                 0\n",
              "RRR (WP)                     0\n",
              "New BND WP                   0\n",
              "Prior New BND WP             0\n",
              "YoY New WP                   0\n",
              "3-Pol YR EP                374\n",
              "3-Pol YR Incurred L&LAE    448\n",
              "3 YR Loss Ratio             74\n",
              "3 YR Loss Ratio Rel         74\n",
              "dtype: int64"
            ]
          },
          "execution_count": 125,
          "metadata": {},
          "output_type": "execute_result"
        }
      ],
      "source": [
        "def zeros_val(df):\n",
        "    dfz = (df == 0).sum(axis=0)\n",
        "    return dfz\n",
        "\n",
        "zeros_val(df)"
      ]
    },
    {
      "cell_type": "markdown",
      "id": "792378fe-9ccf-4c5b-ba0d-f777191fe524",
      "metadata": {
        "id": "792378fe-9ccf-4c5b-ba0d-f777191fe524"
      },
      "source": [
        "#### Printing the summary of Categorical & Numerical Variable"
      ]
    },
    {
      "cell_type": "code",
      "execution_count": null,
      "id": "94d1d913-fc5c-4d33-af10-7f60391a4564",
      "metadata": {
        "id": "94d1d913-fc5c-4d33-af10-7f60391a4564",
        "outputId": "f069e026-dd4d-4e96-fd5c-b9e5d7104dc2"
      },
      "outputs": [
        {
          "data": {
            "text/html": [
              "<div>\n",
              "<style scoped>\n",
              "    .dataframe tbody tr th:only-of-type {\n",
              "        vertical-align: middle;\n",
              "    }\n",
              "\n",
              "    .dataframe tbody tr th {\n",
              "        vertical-align: top;\n",
              "    }\n",
              "\n",
              "    .dataframe thead th {\n",
              "        text-align: right;\n",
              "    }\n",
              "</style>\n",
              "<table border=\"1\" class=\"dataframe\">\n",
              "  <thead>\n",
              "    <tr style=\"text-align: right;\">\n",
              "      <th></th>\n",
              "      <th>count</th>\n",
              "      <th>mean</th>\n",
              "      <th>std</th>\n",
              "      <th>min</th>\n",
              "      <th>25%</th>\n",
              "      <th>50%</th>\n",
              "      <th>75%</th>\n",
              "      <th>max</th>\n",
              "    </tr>\n",
              "  </thead>\n",
              "  <tbody>\n",
              "    <tr>\n",
              "      <th>Inforce #</th>\n",
              "      <td>674.0</td>\n",
              "      <td>1.392136e+01</td>\n",
              "      <td>4.330350e+01</td>\n",
              "      <td>1.000000</td>\n",
              "      <td>1.000000</td>\n",
              "      <td>4.000000</td>\n",
              "      <td>1.200000e+01</td>\n",
              "      <td>8.570000e+02</td>\n",
              "    </tr>\n",
              "    <tr>\n",
              "      <th>Inforce WP</th>\n",
              "      <td>674.0</td>\n",
              "      <td>1.235798e+06</td>\n",
              "      <td>3.348077e+06</td>\n",
              "      <td>601.000000</td>\n",
              "      <td>114511.000000</td>\n",
              "      <td>386201.000000</td>\n",
              "      <td>1.236092e+06</td>\n",
              "      <td>5.095938e+07</td>\n",
              "    </tr>\n",
              "    <tr>\n",
              "      <th>Prior Inforce #</th>\n",
              "      <td>706.0</td>\n",
              "      <td>1.503258e+01</td>\n",
              "      <td>5.050081e+01</td>\n",
              "      <td>1.000000</td>\n",
              "      <td>1.000000</td>\n",
              "      <td>4.000000</td>\n",
              "      <td>1.200000e+01</td>\n",
              "      <td>1.034000e+03</td>\n",
              "    </tr>\n",
              "    <tr>\n",
              "      <th>Prior Inforce WP</th>\n",
              "      <td>706.0</td>\n",
              "      <td>1.282115e+06</td>\n",
              "      <td>3.701447e+06</td>\n",
              "      <td>636.000000</td>\n",
              "      <td>105605.250000</td>\n",
              "      <td>396696.500000</td>\n",
              "      <td>1.216968e+06</td>\n",
              "      <td>6.025714e+07</td>\n",
              "    </tr>\n",
              "    <tr>\n",
              "      <th>YoY Inforce WP</th>\n",
              "      <td>706.0</td>\n",
              "      <td>7.999461e-02</td>\n",
              "      <td>2.251346e+00</td>\n",
              "      <td>-1.000000</td>\n",
              "      <td>-0.414907</td>\n",
              "      <td>-0.149884</td>\n",
              "      <td>8.198724e-02</td>\n",
              "      <td>3.526844e+01</td>\n",
              "    </tr>\n",
              "    <tr>\n",
              "      <th>New Sub</th>\n",
              "      <td>977.0</td>\n",
              "      <td>5.554452e+01</td>\n",
              "      <td>3.130652e+02</td>\n",
              "      <td>1.000000</td>\n",
              "      <td>4.000000</td>\n",
              "      <td>9.000000</td>\n",
              "      <td>2.900000e+01</td>\n",
              "      <td>8.284000e+03</td>\n",
              "    </tr>\n",
              "    <tr>\n",
              "      <th>New QTD</th>\n",
              "      <td>838.0</td>\n",
              "      <td>2.919093e+01</td>\n",
              "      <td>1.397464e+02</td>\n",
              "      <td>1.000000</td>\n",
              "      <td>2.000000</td>\n",
              "      <td>5.000000</td>\n",
              "      <td>1.800000e+01</td>\n",
              "      <td>3.492000e+03</td>\n",
              "    </tr>\n",
              "    <tr>\n",
              "      <th>Quote Rate</th>\n",
              "      <td>706.0</td>\n",
              "      <td>4.052942e-01</td>\n",
              "      <td>2.277819e-01</td>\n",
              "      <td>0.033333</td>\n",
              "      <td>0.250000</td>\n",
              "      <td>0.363636</td>\n",
              "      <td>5.000000e-01</td>\n",
              "      <td>1.000000e+00</td>\n",
              "    </tr>\n",
              "    <tr>\n",
              "      <th>Prior New Sub</th>\n",
              "      <td>989.0</td>\n",
              "      <td>4.940040e+01</td>\n",
              "      <td>2.890233e+02</td>\n",
              "      <td>1.000000</td>\n",
              "      <td>3.000000</td>\n",
              "      <td>8.000000</td>\n",
              "      <td>2.200000e+01</td>\n",
              "      <td>7.307000e+03</td>\n",
              "    </tr>\n",
              "    <tr>\n",
              "      <th>Prior New QTD</th>\n",
              "      <td>744.0</td>\n",
              "      <td>1.887500e+01</td>\n",
              "      <td>9.650436e+01</td>\n",
              "      <td>1.000000</td>\n",
              "      <td>1.000000</td>\n",
              "      <td>3.000000</td>\n",
              "      <td>1.000000e+01</td>\n",
              "      <td>2.284000e+03</td>\n",
              "    </tr>\n",
              "    <tr>\n",
              "      <th>Prior Quote Rate</th>\n",
              "      <td>744.0</td>\n",
              "      <td>3.733648e-01</td>\n",
              "      <td>2.212777e-01</td>\n",
              "      <td>0.026316</td>\n",
              "      <td>0.200000</td>\n",
              "      <td>0.333333</td>\n",
              "      <td>5.000000e-01</td>\n",
              "      <td>1.000000e+00</td>\n",
              "    </tr>\n",
              "    <tr>\n",
              "      <th>YoY: New Sub</th>\n",
              "      <td>853.0</td>\n",
              "      <td>1.552672e-01</td>\n",
              "      <td>1.691424e+00</td>\n",
              "      <td>-0.958333</td>\n",
              "      <td>-0.400000</td>\n",
              "      <td>-0.066667</td>\n",
              "      <td>2.558140e-01</td>\n",
              "      <td>4.200000e+01</td>\n",
              "    </tr>\n",
              "    <tr>\n",
              "      <th>New BND</th>\n",
              "      <td>317.0</td>\n",
              "      <td>3.744479e+00</td>\n",
              "      <td>7.192274e+00</td>\n",
              "      <td>1.000000</td>\n",
              "      <td>1.000000</td>\n",
              "      <td>2.000000</td>\n",
              "      <td>3.000000e+00</td>\n",
              "      <td>8.800000e+01</td>\n",
              "    </tr>\n",
              "    <tr>\n",
              "      <th>Hit Rate</th>\n",
              "      <td>317.0</td>\n",
              "      <td>3.115602e-01</td>\n",
              "      <td>2.885629e-01</td>\n",
              "      <td>0.014085</td>\n",
              "      <td>0.095238</td>\n",
              "      <td>0.200000</td>\n",
              "      <td>5.000000e-01</td>\n",
              "      <td>1.000000e+00</td>\n",
              "    </tr>\n",
              "    <tr>\n",
              "      <th>Prior New BND</th>\n",
              "      <td>709.0</td>\n",
              "      <td>1.544147e+01</td>\n",
              "      <td>5.179857e+01</td>\n",
              "      <td>1.000000</td>\n",
              "      <td>1.000000</td>\n",
              "      <td>4.000000</td>\n",
              "      <td>1.300000e+01</td>\n",
              "      <td>1.061000e+03</td>\n",
              "    </tr>\n",
              "    <tr>\n",
              "      <th>Prior Hit Rate</th>\n",
              "      <td>357.0</td>\n",
              "      <td>3.046103e-01</td>\n",
              "      <td>2.789265e-01</td>\n",
              "      <td>0.008850</td>\n",
              "      <td>0.100000</td>\n",
              "      <td>0.214286</td>\n",
              "      <td>4.285714e-01</td>\n",
              "      <td>1.000000e+00</td>\n",
              "    </tr>\n",
              "    <tr>\n",
              "      <th>Renew QTD</th>\n",
              "      <td>683.0</td>\n",
              "      <td>1.492826e+01</td>\n",
              "      <td>4.907062e+01</td>\n",
              "      <td>1.000000</td>\n",
              "      <td>1.000000</td>\n",
              "      <td>4.000000</td>\n",
              "      <td>1.300000e+01</td>\n",
              "      <td>9.920000e+02</td>\n",
              "    </tr>\n",
              "    <tr>\n",
              "      <th>Renew BND</th>\n",
              "      <td>651.0</td>\n",
              "      <td>1.310445e+01</td>\n",
              "      <td>4.073851e+01</td>\n",
              "      <td>1.000000</td>\n",
              "      <td>1.000000</td>\n",
              "      <td>3.000000</td>\n",
              "      <td>1.200000e+01</td>\n",
              "      <td>7.980000e+02</td>\n",
              "    </tr>\n",
              "    <tr>\n",
              "      <th>RRR (#)</th>\n",
              "      <td>651.0</td>\n",
              "      <td>8.836234e-01</td>\n",
              "      <td>1.606688e-01</td>\n",
              "      <td>0.250000</td>\n",
              "      <td>0.805665</td>\n",
              "      <td>1.000000</td>\n",
              "      <td>1.000000e+00</td>\n",
              "      <td>1.000000e+00</td>\n",
              "    </tr>\n",
              "    <tr>\n",
              "      <th>Renew QTD WP</th>\n",
              "      <td>683.0</td>\n",
              "      <td>1.218529e+06</td>\n",
              "      <td>3.369268e+06</td>\n",
              "      <td>0.000000</td>\n",
              "      <td>101788.000000</td>\n",
              "      <td>371705.000000</td>\n",
              "      <td>1.169180e+06</td>\n",
              "      <td>4.989741e+07</td>\n",
              "    </tr>\n",
              "    <tr>\n",
              "      <th>Renew BND WP</th>\n",
              "      <td>651.0</td>\n",
              "      <td>1.085222e+06</td>\n",
              "      <td>2.971628e+06</td>\n",
              "      <td>15.000000</td>\n",
              "      <td>93210.500000</td>\n",
              "      <td>331513.000000</td>\n",
              "      <td>1.075572e+06</td>\n",
              "      <td>4.546974e+07</td>\n",
              "    </tr>\n",
              "    <tr>\n",
              "      <th>RRR (WP)</th>\n",
              "      <td>651.0</td>\n",
              "      <td>8.778689e-01</td>\n",
              "      <td>2.051490e-01</td>\n",
              "      <td>0.002239</td>\n",
              "      <td>0.827752</td>\n",
              "      <td>1.000000</td>\n",
              "      <td>1.000000e+00</td>\n",
              "      <td>1.000000e+00</td>\n",
              "    </tr>\n",
              "    <tr>\n",
              "      <th>New BND WP</th>\n",
              "      <td>683.0</td>\n",
              "      <td>1.230478e+06</td>\n",
              "      <td>3.360643e+06</td>\n",
              "      <td>601.000000</td>\n",
              "      <td>109066.500000</td>\n",
              "      <td>376360.000000</td>\n",
              "      <td>1.193727e+06</td>\n",
              "      <td>5.101740e+07</td>\n",
              "    </tr>\n",
              "    <tr>\n",
              "      <th>Prior New BND WP</th>\n",
              "      <td>357.0</td>\n",
              "      <td>3.763289e+05</td>\n",
              "      <td>7.941648e+05</td>\n",
              "      <td>73.000000</td>\n",
              "      <td>35814.000000</td>\n",
              "      <td>128340.000000</td>\n",
              "      <td>3.749680e+05</td>\n",
              "      <td>6.882098e+06</td>\n",
              "    </tr>\n",
              "    <tr>\n",
              "      <th>YoY New WP</th>\n",
              "      <td>357.0</td>\n",
              "      <td>1.188352e+01</td>\n",
              "      <td>9.149568e+01</td>\n",
              "      <td>-1.000000</td>\n",
              "      <td>-1.000000</td>\n",
              "      <td>-0.738930</td>\n",
              "      <td>3.485146e-01</td>\n",
              "      <td>1.178414e+03</td>\n",
              "    </tr>\n",
              "    <tr>\n",
              "      <th>3-Pol YR EP</th>\n",
              "      <td>1217.0</td>\n",
              "      <td>2.344179e+06</td>\n",
              "      <td>9.409704e+06</td>\n",
              "      <td>0.000000</td>\n",
              "      <td>0.000000</td>\n",
              "      <td>266628.000000</td>\n",
              "      <td>1.644278e+06</td>\n",
              "      <td>2.129973e+08</td>\n",
              "    </tr>\n",
              "    <tr>\n",
              "      <th>3-Pol YR Incurred L&amp;LAE</th>\n",
              "      <td>1217.0</td>\n",
              "      <td>1.015102e+06</td>\n",
              "      <td>4.131583e+06</td>\n",
              "      <td>0.000000</td>\n",
              "      <td>0.000000</td>\n",
              "      <td>60580.710000</td>\n",
              "      <td>6.753902e+05</td>\n",
              "      <td>8.688410e+07</td>\n",
              "    </tr>\n",
              "    <tr>\n",
              "      <th>3 YR Loss Ratio</th>\n",
              "      <td>843.0</td>\n",
              "      <td>4.485142e-01</td>\n",
              "      <td>8.863106e-01</td>\n",
              "      <td>0.000000</td>\n",
              "      <td>0.125361</td>\n",
              "      <td>0.328819</td>\n",
              "      <td>4.941340e-01</td>\n",
              "      <td>1.525573e+01</td>\n",
              "    </tr>\n",
              "    <tr>\n",
              "      <th>3 YR Loss Ratio Rel</th>\n",
              "      <td>843.0</td>\n",
              "      <td>1.035755e+00</td>\n",
              "      <td>2.046760e+00</td>\n",
              "      <td>0.000000</td>\n",
              "      <td>0.289497</td>\n",
              "      <td>0.759344</td>\n",
              "      <td>1.141105e+00</td>\n",
              "      <td>3.523012e+01</td>\n",
              "    </tr>\n",
              "  </tbody>\n",
              "</table>\n",
              "</div>"
            ],
            "text/plain": [
              "                          count          mean           std         min  \\\n",
              "Inforce #                 674.0  1.392136e+01  4.330350e+01    1.000000   \n",
              "Inforce WP                674.0  1.235798e+06  3.348077e+06  601.000000   \n",
              "Prior Inforce #           706.0  1.503258e+01  5.050081e+01    1.000000   \n",
              "Prior Inforce WP          706.0  1.282115e+06  3.701447e+06  636.000000   \n",
              "YoY Inforce WP            706.0  7.999461e-02  2.251346e+00   -1.000000   \n",
              "New Sub                   977.0  5.554452e+01  3.130652e+02    1.000000   \n",
              "New QTD                   838.0  2.919093e+01  1.397464e+02    1.000000   \n",
              "Quote Rate                706.0  4.052942e-01  2.277819e-01    0.033333   \n",
              "Prior New Sub             989.0  4.940040e+01  2.890233e+02    1.000000   \n",
              "Prior New QTD             744.0  1.887500e+01  9.650436e+01    1.000000   \n",
              "Prior Quote Rate          744.0  3.733648e-01  2.212777e-01    0.026316   \n",
              "YoY: New Sub              853.0  1.552672e-01  1.691424e+00   -0.958333   \n",
              "New BND                   317.0  3.744479e+00  7.192274e+00    1.000000   \n",
              "Hit Rate                  317.0  3.115602e-01  2.885629e-01    0.014085   \n",
              "Prior New BND             709.0  1.544147e+01  5.179857e+01    1.000000   \n",
              "Prior Hit Rate            357.0  3.046103e-01  2.789265e-01    0.008850   \n",
              "Renew QTD                 683.0  1.492826e+01  4.907062e+01    1.000000   \n",
              "Renew BND                 651.0  1.310445e+01  4.073851e+01    1.000000   \n",
              "RRR (#)                   651.0  8.836234e-01  1.606688e-01    0.250000   \n",
              "Renew QTD WP              683.0  1.218529e+06  3.369268e+06    0.000000   \n",
              "Renew BND WP              651.0  1.085222e+06  2.971628e+06   15.000000   \n",
              "RRR (WP)                  651.0  8.778689e-01  2.051490e-01    0.002239   \n",
              "New BND WP                683.0  1.230478e+06  3.360643e+06  601.000000   \n",
              "Prior New BND WP          357.0  3.763289e+05  7.941648e+05   73.000000   \n",
              "YoY New WP                357.0  1.188352e+01  9.149568e+01   -1.000000   \n",
              "3-Pol YR EP              1217.0  2.344179e+06  9.409704e+06    0.000000   \n",
              "3-Pol YR Incurred L&LAE  1217.0  1.015102e+06  4.131583e+06    0.000000   \n",
              "3 YR Loss Ratio           843.0  4.485142e-01  8.863106e-01    0.000000   \n",
              "3 YR Loss Ratio Rel       843.0  1.035755e+00  2.046760e+00    0.000000   \n",
              "\n",
              "                                   25%            50%           75%  \\\n",
              "Inforce #                     1.000000       4.000000  1.200000e+01   \n",
              "Inforce WP               114511.000000  386201.000000  1.236092e+06   \n",
              "Prior Inforce #               1.000000       4.000000  1.200000e+01   \n",
              "Prior Inforce WP         105605.250000  396696.500000  1.216968e+06   \n",
              "YoY Inforce WP               -0.414907      -0.149884  8.198724e-02   \n",
              "New Sub                       4.000000       9.000000  2.900000e+01   \n",
              "New QTD                       2.000000       5.000000  1.800000e+01   \n",
              "Quote Rate                    0.250000       0.363636  5.000000e-01   \n",
              "Prior New Sub                 3.000000       8.000000  2.200000e+01   \n",
              "Prior New QTD                 1.000000       3.000000  1.000000e+01   \n",
              "Prior Quote Rate              0.200000       0.333333  5.000000e-01   \n",
              "YoY: New Sub                 -0.400000      -0.066667  2.558140e-01   \n",
              "New BND                       1.000000       2.000000  3.000000e+00   \n",
              "Hit Rate                      0.095238       0.200000  5.000000e-01   \n",
              "Prior New BND                 1.000000       4.000000  1.300000e+01   \n",
              "Prior Hit Rate                0.100000       0.214286  4.285714e-01   \n",
              "Renew QTD                     1.000000       4.000000  1.300000e+01   \n",
              "Renew BND                     1.000000       3.000000  1.200000e+01   \n",
              "RRR (#)                       0.805665       1.000000  1.000000e+00   \n",
              "Renew QTD WP             101788.000000  371705.000000  1.169180e+06   \n",
              "Renew BND WP              93210.500000  331513.000000  1.075572e+06   \n",
              "RRR (WP)                      0.827752       1.000000  1.000000e+00   \n",
              "New BND WP               109066.500000  376360.000000  1.193727e+06   \n",
              "Prior New BND WP          35814.000000  128340.000000  3.749680e+05   \n",
              "YoY New WP                   -1.000000      -0.738930  3.485146e-01   \n",
              "3-Pol YR EP                   0.000000  266628.000000  1.644278e+06   \n",
              "3-Pol YR Incurred L&LAE       0.000000   60580.710000  6.753902e+05   \n",
              "3 YR Loss Ratio               0.125361       0.328819  4.941340e-01   \n",
              "3 YR Loss Ratio Rel           0.289497       0.759344  1.141105e+00   \n",
              "\n",
              "                                  max  \n",
              "Inforce #                8.570000e+02  \n",
              "Inforce WP               5.095938e+07  \n",
              "Prior Inforce #          1.034000e+03  \n",
              "Prior Inforce WP         6.025714e+07  \n",
              "YoY Inforce WP           3.526844e+01  \n",
              "New Sub                  8.284000e+03  \n",
              "New QTD                  3.492000e+03  \n",
              "Quote Rate               1.000000e+00  \n",
              "Prior New Sub            7.307000e+03  \n",
              "Prior New QTD            2.284000e+03  \n",
              "Prior Quote Rate         1.000000e+00  \n",
              "YoY: New Sub             4.200000e+01  \n",
              "New BND                  8.800000e+01  \n",
              "Hit Rate                 1.000000e+00  \n",
              "Prior New BND            1.061000e+03  \n",
              "Prior Hit Rate           1.000000e+00  \n",
              "Renew QTD                9.920000e+02  \n",
              "Renew BND                7.980000e+02  \n",
              "RRR (#)                  1.000000e+00  \n",
              "Renew QTD WP             4.989741e+07  \n",
              "Renew BND WP             4.546974e+07  \n",
              "RRR (WP)                 1.000000e+00  \n",
              "New BND WP               5.101740e+07  \n",
              "Prior New BND WP         6.882098e+06  \n",
              "YoY New WP               1.178414e+03  \n",
              "3-Pol YR EP              2.129973e+08  \n",
              "3-Pol YR Incurred L&LAE  8.688410e+07  \n",
              "3 YR Loss Ratio          1.525573e+01  \n",
              "3 YR Loss Ratio Rel      3.523012e+01  "
            ]
          },
          "execution_count": 126,
          "metadata": {},
          "output_type": "execute_result"
        }
      ],
      "source": [
        "def summary_num(df):\n",
        "    continuous_data = df.select_dtypes(include=np.float)\n",
        "    dfcon = continuous_data.describe().T\n",
        "    return dfcon\n",
        "\n",
        "summary_num(df)"
      ]
    },
    {
      "cell_type": "code",
      "execution_count": null,
      "id": "7656d507-3006-41a4-8977-f28d63bbf32f",
      "metadata": {
        "id": "7656d507-3006-41a4-8977-f28d63bbf32f",
        "outputId": "5b81e70f-8927-43fc-9548-c8c98ed8a119"
      },
      "outputs": [
        {
          "data": {
            "text/html": [
              "<div>\n",
              "<style scoped>\n",
              "    .dataframe tbody tr th:only-of-type {\n",
              "        vertical-align: middle;\n",
              "    }\n",
              "\n",
              "    .dataframe tbody tr th {\n",
              "        vertical-align: top;\n",
              "    }\n",
              "\n",
              "    .dataframe thead th {\n",
              "        text-align: right;\n",
              "    }\n",
              "</style>\n",
              "<table border=\"1\" class=\"dataframe\">\n",
              "  <thead>\n",
              "    <tr style=\"text-align: right;\">\n",
              "      <th></th>\n",
              "      <th>count</th>\n",
              "      <th>unique</th>\n",
              "      <th>top</th>\n",
              "      <th>freq</th>\n",
              "    </tr>\n",
              "  </thead>\n",
              "  <tbody>\n",
              "    <tr>\n",
              "      <th>NW Producer</th>\n",
              "      <td>1235</td>\n",
              "      <td>448</td>\n",
              "      <td>USI</td>\n",
              "      <td>73</td>\n",
              "    </tr>\n",
              "    <tr>\n",
              "      <th>Active Agy</th>\n",
              "      <td>1237</td>\n",
              "      <td>2</td>\n",
              "      <td>Yes</td>\n",
              "      <td>1017</td>\n",
              "    </tr>\n",
              "    <tr>\n",
              "      <th>Agy Code</th>\n",
              "      <td>1237</td>\n",
              "      <td>1237</td>\n",
              "      <td>CAH07857</td>\n",
              "      <td>1</td>\n",
              "    </tr>\n",
              "    <tr>\n",
              "      <th>MKTG Manager</th>\n",
              "      <td>1231</td>\n",
              "      <td>21</td>\n",
              "      <td>Teri Brennan</td>\n",
              "      <td>107</td>\n",
              "    </tr>\n",
              "    <tr>\n",
              "      <th>Large UW</th>\n",
              "      <td>1225</td>\n",
              "      <td>58</td>\n",
              "      <td>Don Firesheets</td>\n",
              "      <td>68</td>\n",
              "    </tr>\n",
              "    <tr>\n",
              "      <th>Agy Name</th>\n",
              "      <td>1237</td>\n",
              "      <td>787</td>\n",
              "      <td>MCGRIFF INSURANCE SERVICES, INC.</td>\n",
              "      <td>53</td>\n",
              "    </tr>\n",
              "    <tr>\n",
              "      <th>Agy City</th>\n",
              "      <td>1237</td>\n",
              "      <td>517</td>\n",
              "      <td>Atlanta</td>\n",
              "      <td>22</td>\n",
              "    </tr>\n",
              "    <tr>\n",
              "      <th>Agy State</th>\n",
              "      <td>1237</td>\n",
              "      <td>48</td>\n",
              "      <td>CA</td>\n",
              "      <td>326</td>\n",
              "    </tr>\n",
              "    <tr>\n",
              "      <th>Production Source</th>\n",
              "      <td>1237</td>\n",
              "      <td>2</td>\n",
              "      <td>Retailer</td>\n",
              "      <td>1174</td>\n",
              "    </tr>\n",
              "  </tbody>\n",
              "</table>\n",
              "</div>"
            ],
            "text/plain": [
              "                  count unique                               top  freq\n",
              "NW Producer        1235    448                               USI    73\n",
              "Active Agy         1237      2                               Yes  1017\n",
              "Agy Code           1237   1237                          CAH07857     1\n",
              "MKTG Manager       1231     21                      Teri Brennan   107\n",
              "Large UW           1225     58                    Don Firesheets    68\n",
              "Agy Name           1237    787  MCGRIFF INSURANCE SERVICES, INC.    53\n",
              "Agy City           1237    517                           Atlanta    22\n",
              "Agy State          1237     48                                CA   326\n",
              "Production Source  1237      2                          Retailer  1174"
            ]
          },
          "execution_count": 127,
          "metadata": {},
          "output_type": "execute_result"
        }
      ],
      "source": [
        "def summary_cat(df):\n",
        "    categorical_data = df.select_dtypes(include=object)\n",
        "    dfcat = categorical_data.describe().T\n",
        "    return dfcat \n",
        "\n",
        "summary_cat(df)"
      ]
    },
    {
      "cell_type": "markdown",
      "source": [
        "####Data Scaling"
      ],
      "metadata": {
        "id": "DmJpQwSQY8LI"
      },
      "id": "DmJpQwSQY8LI"
    },
    {
      "cell_type": "code",
      "source": [
        "from sklearn import preprocessing\n",
        "class Scaling:  \n",
        "    def __init__(self,name, data):  \n",
        "        self.name = name  \n",
        "        self.data = data  \n",
        "    def scale(self):  \n",
        "        if self.name=='minmax':\n",
        "          return  self.scale_minmax(self.data)\n",
        "        if self.name=='robust':\n",
        "          return  self.scale_robust(self.data) \n",
        "        if self.name=='standard':\n",
        "          return  self.scale_standard(self.data)\n",
        "  \n",
        "    def scale_minmax(self,x):\n",
        "        scaler = preprocessing.MinMaxScaler()\n",
        "        p=x.copy()\n",
        "        x = scaler.fit_transform(x)\n",
        "        x=pd.DataFrame(x,columns=p.columns)\n",
        "        return x   \n",
        "    def scale_robust(self,x):\n",
        "        scaler = preprocessing.RobustScaler()\n",
        "        p=x.copy()\n",
        "        x = scaler.fit_transform(x)\n",
        "        x=pd.DataFrame(x,columns=p.columns)\n",
        "        return x \n",
        "\n",
        "    def scale_standard(self,x):\n",
        "        scaler = preprocessing.StandardScaler()\n",
        "        p=x.copy()\n",
        "        x = scaler.fit_transform(x)\n",
        "        x=pd.DataFrame(x,columns=p.columns)\n",
        "        return x\n",
        "          \n"
      ],
      "metadata": {
        "id": "7QC48AKipYD8"
      },
      "id": "7QC48AKipYD8",
      "execution_count": null,
      "outputs": []
    },
    {
      "cell_type": "code",
      "source": [
        "x = df.iloc[:,[9,10,11,12,13,14,15,16,17,18,19,20,21,22,23,24,25,26,27,28,29,30,31,32,33]]"
      ],
      "metadata": {
        "id": "H82Ke4bJaZ1a"
      },
      "id": "H82Ke4bJaZ1a",
      "execution_count": null,
      "outputs": []
    },
    {
      "cell_type": "code",
      "source": [
        "c1 = Scaling(\"minmax\", x)  \n",
        "x=c1.scale()  "
      ],
      "metadata": {
        "id": "eBH_wUaIrbO1"
      },
      "id": "eBH_wUaIrbO1",
      "execution_count": null,
      "outputs": []
    },
    {
      "cell_type": "code",
      "source": [
        "x.head()"
      ],
      "metadata": {
        "colab": {
          "base_uri": "https://localhost:8080/",
          "height": 334
        },
        "id": "c7G8qNuxadWp",
        "outputId": "5646c0ed-8fed-489b-a0fe-fbc15d68f929"
      },
      "id": "c7G8qNuxadWp",
      "execution_count": null,
      "outputs": [
        {
          "output_type": "execute_result",
          "data": {
            "text/plain": [
              "   Inforce #  Inforce WP  Prior Inforce #  Prior Inforce WP  YoY Inforce WP  \\\n",
              "0   0.031505    0.073101         0.029014          0.066388        0.025676   \n",
              "1   0.000000    0.000000         0.000000          0.000000        0.027572   \n",
              "2   0.022170    0.011937         0.029981          0.025311        0.010997   \n",
              "3   0.002334    0.000970         0.003868          0.000972        0.023275   \n",
              "4   0.000000    0.000000         0.000000          0.000000        0.027572   \n",
              "\n",
              "    New Sub   New QTD  Quote Rate  Prior New Sub  Prior New QTD  ...  \\\n",
              "0  0.009778  0.013746    0.352941       0.007938       0.007443  ...   \n",
              "1  0.000000  0.000000    0.000000       0.000000       0.000000  ...   \n",
              "2  0.005070  0.008591    0.312500       0.006022       0.006567  ...   \n",
              "3  0.001328  0.001145    0.222222       0.000684       0.000000  ...   \n",
              "4  0.000000  0.000000    0.000000       0.000000       0.000000  ...   \n",
              "\n",
              "   Prior Hit Rate  Renew QTD  Renew BND  RRR (#)  Renew QTD WP  Renew BND WP  \\\n",
              "0        0.176471   0.030242   0.030075     0.80      0.079594      0.068944   \n",
              "1        0.000000   0.000000   0.000000     0.00      0.000000      0.000000   \n",
              "2        0.133333   0.025202   0.026316     0.84      0.023540      0.013437   \n",
              "3        0.000000   0.002016   0.002506     1.00      0.000990      0.001087   \n",
              "4        0.000000   0.000000   0.000000     0.00      0.000000      0.000000   \n",
              "\n",
              "   RRR (WP)  New BND WP  Prior New BND WP  YoY New WP  \n",
              "0  0.789336    0.073018          0.018177    0.004924  \n",
              "1  0.000000    0.000000          0.000000    0.000848  \n",
              "2  0.520151    0.011976          0.001352    0.000000  \n",
              "3  1.000000    0.000969          0.000000    0.000848  \n",
              "4  0.000000    0.000000          0.000000    0.000848  \n",
              "\n",
              "[5 rows x 25 columns]"
            ],
            "text/html": [
              "\n",
              "  <div id=\"df-f8bee1fd-970a-4d5c-b1d9-335cf098d43a\">\n",
              "    <div class=\"colab-df-container\">\n",
              "      <div>\n",
              "<style scoped>\n",
              "    .dataframe tbody tr th:only-of-type {\n",
              "        vertical-align: middle;\n",
              "    }\n",
              "\n",
              "    .dataframe tbody tr th {\n",
              "        vertical-align: top;\n",
              "    }\n",
              "\n",
              "    .dataframe thead th {\n",
              "        text-align: right;\n",
              "    }\n",
              "</style>\n",
              "<table border=\"1\" class=\"dataframe\">\n",
              "  <thead>\n",
              "    <tr style=\"text-align: right;\">\n",
              "      <th></th>\n",
              "      <th>Inforce #</th>\n",
              "      <th>Inforce WP</th>\n",
              "      <th>Prior Inforce #</th>\n",
              "      <th>Prior Inforce WP</th>\n",
              "      <th>YoY Inforce WP</th>\n",
              "      <th>New Sub</th>\n",
              "      <th>New QTD</th>\n",
              "      <th>Quote Rate</th>\n",
              "      <th>Prior New Sub</th>\n",
              "      <th>Prior New QTD</th>\n",
              "      <th>...</th>\n",
              "      <th>Prior Hit Rate</th>\n",
              "      <th>Renew QTD</th>\n",
              "      <th>Renew BND</th>\n",
              "      <th>RRR (#)</th>\n",
              "      <th>Renew QTD WP</th>\n",
              "      <th>Renew BND WP</th>\n",
              "      <th>RRR (WP)</th>\n",
              "      <th>New BND WP</th>\n",
              "      <th>Prior New BND WP</th>\n",
              "      <th>YoY New WP</th>\n",
              "    </tr>\n",
              "  </thead>\n",
              "  <tbody>\n",
              "    <tr>\n",
              "      <th>0</th>\n",
              "      <td>0.031505</td>\n",
              "      <td>0.073101</td>\n",
              "      <td>0.029014</td>\n",
              "      <td>0.066388</td>\n",
              "      <td>0.025676</td>\n",
              "      <td>0.009778</td>\n",
              "      <td>0.013746</td>\n",
              "      <td>0.352941</td>\n",
              "      <td>0.007938</td>\n",
              "      <td>0.007443</td>\n",
              "      <td>...</td>\n",
              "      <td>0.176471</td>\n",
              "      <td>0.030242</td>\n",
              "      <td>0.030075</td>\n",
              "      <td>0.80</td>\n",
              "      <td>0.079594</td>\n",
              "      <td>0.068944</td>\n",
              "      <td>0.789336</td>\n",
              "      <td>0.073018</td>\n",
              "      <td>0.018177</td>\n",
              "      <td>0.004924</td>\n",
              "    </tr>\n",
              "    <tr>\n",
              "      <th>1</th>\n",
              "      <td>0.000000</td>\n",
              "      <td>0.000000</td>\n",
              "      <td>0.000000</td>\n",
              "      <td>0.000000</td>\n",
              "      <td>0.027572</td>\n",
              "      <td>0.000000</td>\n",
              "      <td>0.000000</td>\n",
              "      <td>0.000000</td>\n",
              "      <td>0.000000</td>\n",
              "      <td>0.000000</td>\n",
              "      <td>...</td>\n",
              "      <td>0.000000</td>\n",
              "      <td>0.000000</td>\n",
              "      <td>0.000000</td>\n",
              "      <td>0.00</td>\n",
              "      <td>0.000000</td>\n",
              "      <td>0.000000</td>\n",
              "      <td>0.000000</td>\n",
              "      <td>0.000000</td>\n",
              "      <td>0.000000</td>\n",
              "      <td>0.000848</td>\n",
              "    </tr>\n",
              "    <tr>\n",
              "      <th>2</th>\n",
              "      <td>0.022170</td>\n",
              "      <td>0.011937</td>\n",
              "      <td>0.029981</td>\n",
              "      <td>0.025311</td>\n",
              "      <td>0.010997</td>\n",
              "      <td>0.005070</td>\n",
              "      <td>0.008591</td>\n",
              "      <td>0.312500</td>\n",
              "      <td>0.006022</td>\n",
              "      <td>0.006567</td>\n",
              "      <td>...</td>\n",
              "      <td>0.133333</td>\n",
              "      <td>0.025202</td>\n",
              "      <td>0.026316</td>\n",
              "      <td>0.84</td>\n",
              "      <td>0.023540</td>\n",
              "      <td>0.013437</td>\n",
              "      <td>0.520151</td>\n",
              "      <td>0.011976</td>\n",
              "      <td>0.001352</td>\n",
              "      <td>0.000000</td>\n",
              "    </tr>\n",
              "    <tr>\n",
              "      <th>3</th>\n",
              "      <td>0.002334</td>\n",
              "      <td>0.000970</td>\n",
              "      <td>0.003868</td>\n",
              "      <td>0.000972</td>\n",
              "      <td>0.023275</td>\n",
              "      <td>0.001328</td>\n",
              "      <td>0.001145</td>\n",
              "      <td>0.222222</td>\n",
              "      <td>0.000684</td>\n",
              "      <td>0.000000</td>\n",
              "      <td>...</td>\n",
              "      <td>0.000000</td>\n",
              "      <td>0.002016</td>\n",
              "      <td>0.002506</td>\n",
              "      <td>1.00</td>\n",
              "      <td>0.000990</td>\n",
              "      <td>0.001087</td>\n",
              "      <td>1.000000</td>\n",
              "      <td>0.000969</td>\n",
              "      <td>0.000000</td>\n",
              "      <td>0.000848</td>\n",
              "    </tr>\n",
              "    <tr>\n",
              "      <th>4</th>\n",
              "      <td>0.000000</td>\n",
              "      <td>0.000000</td>\n",
              "      <td>0.000000</td>\n",
              "      <td>0.000000</td>\n",
              "      <td>0.027572</td>\n",
              "      <td>0.000000</td>\n",
              "      <td>0.000000</td>\n",
              "      <td>0.000000</td>\n",
              "      <td>0.000000</td>\n",
              "      <td>0.000000</td>\n",
              "      <td>...</td>\n",
              "      <td>0.000000</td>\n",
              "      <td>0.000000</td>\n",
              "      <td>0.000000</td>\n",
              "      <td>0.00</td>\n",
              "      <td>0.000000</td>\n",
              "      <td>0.000000</td>\n",
              "      <td>0.000000</td>\n",
              "      <td>0.000000</td>\n",
              "      <td>0.000000</td>\n",
              "      <td>0.000848</td>\n",
              "    </tr>\n",
              "  </tbody>\n",
              "</table>\n",
              "<p>5 rows × 25 columns</p>\n",
              "</div>\n",
              "      <button class=\"colab-df-convert\" onclick=\"convertToInteractive('df-f8bee1fd-970a-4d5c-b1d9-335cf098d43a')\"\n",
              "              title=\"Convert this dataframe to an interactive table.\"\n",
              "              style=\"display:none;\">\n",
              "        \n",
              "  <svg xmlns=\"http://www.w3.org/2000/svg\" height=\"24px\"viewBox=\"0 0 24 24\"\n",
              "       width=\"24px\">\n",
              "    <path d=\"M0 0h24v24H0V0z\" fill=\"none\"/>\n",
              "    <path d=\"M18.56 5.44l.94 2.06.94-2.06 2.06-.94-2.06-.94-.94-2.06-.94 2.06-2.06.94zm-11 1L8.5 8.5l.94-2.06 2.06-.94-2.06-.94L8.5 2.5l-.94 2.06-2.06.94zm10 10l.94 2.06.94-2.06 2.06-.94-2.06-.94-.94-2.06-.94 2.06-2.06.94z\"/><path d=\"M17.41 7.96l-1.37-1.37c-.4-.4-.92-.59-1.43-.59-.52 0-1.04.2-1.43.59L10.3 9.45l-7.72 7.72c-.78.78-.78 2.05 0 2.83L4 21.41c.39.39.9.59 1.41.59.51 0 1.02-.2 1.41-.59l7.78-7.78 2.81-2.81c.8-.78.8-2.07 0-2.86zM5.41 20L4 18.59l7.72-7.72 1.47 1.35L5.41 20z\"/>\n",
              "  </svg>\n",
              "      </button>\n",
              "      \n",
              "  <style>\n",
              "    .colab-df-container {\n",
              "      display:flex;\n",
              "      flex-wrap:wrap;\n",
              "      gap: 12px;\n",
              "    }\n",
              "\n",
              "    .colab-df-convert {\n",
              "      background-color: #E8F0FE;\n",
              "      border: none;\n",
              "      border-radius: 50%;\n",
              "      cursor: pointer;\n",
              "      display: none;\n",
              "      fill: #1967D2;\n",
              "      height: 32px;\n",
              "      padding: 0 0 0 0;\n",
              "      width: 32px;\n",
              "    }\n",
              "\n",
              "    .colab-df-convert:hover {\n",
              "      background-color: #E2EBFA;\n",
              "      box-shadow: 0px 1px 2px rgba(60, 64, 67, 0.3), 0px 1px 3px 1px rgba(60, 64, 67, 0.15);\n",
              "      fill: #174EA6;\n",
              "    }\n",
              "\n",
              "    [theme=dark] .colab-df-convert {\n",
              "      background-color: #3B4455;\n",
              "      fill: #D2E3FC;\n",
              "    }\n",
              "\n",
              "    [theme=dark] .colab-df-convert:hover {\n",
              "      background-color: #434B5C;\n",
              "      box-shadow: 0px 1px 3px 1px rgba(0, 0, 0, 0.15);\n",
              "      filter: drop-shadow(0px 1px 2px rgba(0, 0, 0, 0.3));\n",
              "      fill: #FFFFFF;\n",
              "    }\n",
              "  </style>\n",
              "\n",
              "      <script>\n",
              "        const buttonEl =\n",
              "          document.querySelector('#df-f8bee1fd-970a-4d5c-b1d9-335cf098d43a button.colab-df-convert');\n",
              "        buttonEl.style.display =\n",
              "          google.colab.kernel.accessAllowed ? 'block' : 'none';\n",
              "\n",
              "        async function convertToInteractive(key) {\n",
              "          const element = document.querySelector('#df-f8bee1fd-970a-4d5c-b1d9-335cf098d43a');\n",
              "          const dataTable =\n",
              "            await google.colab.kernel.invokeFunction('convertToInteractive',\n",
              "                                                     [key], {});\n",
              "          if (!dataTable) return;\n",
              "\n",
              "          const docLinkHtml = 'Like what you see? Visit the ' +\n",
              "            '<a target=\"_blank\" href=https://colab.research.google.com/notebooks/data_table.ipynb>data table notebook</a>'\n",
              "            + ' to learn more about interactive tables.';\n",
              "          element.innerHTML = '';\n",
              "          dataTable['output_type'] = 'display_data';\n",
              "          await google.colab.output.renderOutput(dataTable, element);\n",
              "          const docLink = document.createElement('div');\n",
              "          docLink.innerHTML = docLinkHtml;\n",
              "          element.appendChild(docLink);\n",
              "        }\n",
              "      </script>\n",
              "    </div>\n",
              "  </div>\n",
              "  "
            ]
          },
          "metadata": {},
          "execution_count": 12
        }
      ]
    },
    {
      "cell_type": "markdown",
      "source": [
        "####Dimensionality Reduction"
      ],
      "metadata": {
        "id": "jTuSbYkJlQOW"
      },
      "id": "jTuSbYkJlQOW"
    },
    {
      "cell_type": "code",
      "source": [
        "p=x.copy()"
      ],
      "metadata": {
        "id": "_CHbudpklzti"
      },
      "id": "_CHbudpklzti",
      "execution_count": null,
      "outputs": []
    },
    {
      "cell_type": "code",
      "source": [
        "\n",
        "!pip install umap-learn"
      ],
      "metadata": {
        "colab": {
          "base_uri": "https://localhost:8080/"
        },
        "id": "WoazaNsD03LL",
        "outputId": "8c0e19ff-0fd6-4e43-cdcd-c0c42048fa56"
      },
      "id": "WoazaNsD03LL",
      "execution_count": null,
      "outputs": [
        {
          "output_type": "stream",
          "name": "stdout",
          "text": [
            "Looking in indexes: https://pypi.org/simple, https://us-python.pkg.dev/colab-wheels/public/simple/\n",
            "Collecting umap-learn\n",
            "  Downloading umap-learn-0.5.3.tar.gz (88 kB)\n",
            "\u001b[K     |████████████████████████████████| 88 kB 3.6 MB/s \n",
            "\u001b[?25hRequirement already satisfied: numpy>=1.17 in /usr/local/lib/python3.7/dist-packages (from umap-learn) (1.21.6)\n",
            "Requirement already satisfied: scikit-learn>=0.22 in /usr/local/lib/python3.7/dist-packages (from umap-learn) (1.0.2)\n",
            "Requirement already satisfied: scipy>=1.0 in /usr/local/lib/python3.7/dist-packages (from umap-learn) (1.7.3)\n",
            "Requirement already satisfied: numba>=0.49 in /usr/local/lib/python3.7/dist-packages (from umap-learn) (0.51.2)\n",
            "Collecting pynndescent>=0.5\n",
            "  Downloading pynndescent-0.5.7.tar.gz (1.1 MB)\n",
            "\u001b[K     |████████████████████████████████| 1.1 MB 20.9 MB/s \n",
            "\u001b[?25hRequirement already satisfied: tqdm in /usr/local/lib/python3.7/dist-packages (from umap-learn) (4.64.0)\n",
            "Requirement already satisfied: llvmlite<0.35,>=0.34.0.dev0 in /usr/local/lib/python3.7/dist-packages (from numba>=0.49->umap-learn) (0.34.0)\n",
            "Requirement already satisfied: setuptools in /usr/local/lib/python3.7/dist-packages (from numba>=0.49->umap-learn) (57.4.0)\n",
            "Requirement already satisfied: joblib>=0.11 in /usr/local/lib/python3.7/dist-packages (from pynndescent>=0.5->umap-learn) (1.1.0)\n",
            "Requirement already satisfied: threadpoolctl>=2.0.0 in /usr/local/lib/python3.7/dist-packages (from scikit-learn>=0.22->umap-learn) (3.1.0)\n",
            "Building wheels for collected packages: umap-learn, pynndescent\n",
            "  Building wheel for umap-learn (setup.py) ... \u001b[?25l\u001b[?25hdone\n",
            "  Created wheel for umap-learn: filename=umap_learn-0.5.3-py3-none-any.whl size=82829 sha256=ffb2712adc8a8ec799c4281ab85a71ad7aaf42b2f1a466dbcc8fae30bf04a32f\n",
            "  Stored in directory: /root/.cache/pip/wheels/b3/52/a5/1fd9e3e76a7ab34f134c07469cd6f16e27ef3a37aeff1fe821\n",
            "  Building wheel for pynndescent (setup.py) ... \u001b[?25l\u001b[?25hdone\n",
            "  Created wheel for pynndescent: filename=pynndescent-0.5.7-py3-none-any.whl size=54286 sha256=7a27fcee03d56b21564009726b492885b6d27bf7c8cd9fb14c1f5e70b28b3806\n",
            "  Stored in directory: /root/.cache/pip/wheels/7f/2a/f8/7bd5dcec71bd5c669f6f574db3113513696b98f3f9b51f496c\n",
            "Successfully built umap-learn pynndescent\n",
            "Installing collected packages: pynndescent, umap-learn\n",
            "Successfully installed pynndescent-0.5.7 umap-learn-0.5.3\n"
          ]
        }
      ]
    },
    {
      "cell_type": "code",
      "source": [
        "import umap.umap_ as UMAP\n",
        "def reduced_data(x):\n",
        "        reduce_data = UMAP(n_components=2).fit_transform(x)\n",
        "        results = pd.DataFrame(reduce_data,columns=['col1','col2'])\n",
        "        return results"
      ],
      "metadata": {
        "id": "ju6Y8tFKppt8"
      },
      "id": "ju6Y8tFKppt8",
      "execution_count": null,
      "outputs": []
    },
    {
      "cell_type": "code",
      "source": [
        "from sklearn.discriminant_analysis import LinearDiscriminantAnalysis as LDA\n",
        "import umap\n",
        "\n",
        "from sklearn.manifold import TSNE\n",
        "from sklearn.decomposition import PCA\n",
        "\n",
        "\n",
        "class DimensionReduction:  \n",
        "    def __init__(self,name, data,n_components):  \n",
        "        self.name=name\n",
        "        self.n_components = n_components  \n",
        "        self.data = data  \n",
        "    def reduce_data(self):  \n",
        "        if self.name=='PCA':\n",
        "          return  self.reduce_pca(self.data,self.n_components)\n",
        "#        if self.name=='LDA':\n",
        "#          return  self.reduce_lda(self.data,self.n_components) \n",
        "        if self.name=='UMAP':\n",
        "          return  self.reduce_umap(self.data,self.n_components)\n",
        "        if self.name=='TSNE':\n",
        "          return  self.reduce_tsne(self.data,self.n_components)\n",
        "\n",
        "\n",
        "    def reduce_pca(self,data,n_components):\n",
        "        reduced_data = PCA(n_components=n_components).fit_transform(data)\n",
        "        results = pd.DataFrame(reduced_data,columns=['col1','col2'])\n",
        "        return results\n",
        "\n",
        "#    def reduce_lda(self,data,n_components):\n",
        " #       reduced_data = LDA(n_components=n_components).fit_transform(data)\n",
        "  #      results = pd.DataFrame(reduced_data,columns=['col1','col2'])\n",
        "   #     return results\n",
        "\n",
        "    def reduce_umap(self,data,n_components):\n",
        "        reduced_data = umap.UMAP(n_components=n_components).fit_transform(data)\n",
        "        results = pd.DataFrame(reduced_data,columns=['col1','col2'])\n",
        "        return results\n",
        "\n",
        "    def reduce_tsne(self,data,n_components):\n",
        "        reduced_data = TSNE(n_components=n_components).fit_transform(data)\n",
        "        results = pd.DataFrame(reduced_data,columns=['col1','col2'])\n",
        "        return results\n",
        "\n",
        "  \n",
        "\n",
        "          \n"
      ],
      "metadata": {
        "id": "--5XG14tx24U"
      },
      "id": "--5XG14tx24U",
      "execution_count": null,
      "outputs": []
    },
    {
      "cell_type": "code",
      "source": [
        "c2 = DimensionReduction(\"PCA\", p,2)  \n",
        "p=c2.reduce_data()\n",
        "p.head()"
      ],
      "metadata": {
        "colab": {
          "base_uri": "https://localhost:8080/",
          "height": 206
        },
        "id": "My3iuSpz1Pxm",
        "outputId": "857cc2f4-01f8-4bfd-cdb5-9b2c6a09fc45"
      },
      "id": "My3iuSpz1Pxm",
      "execution_count": null,
      "outputs": [
        {
          "output_type": "execute_result",
          "data": {
            "text/plain": [
              "       col1      col2\n",
              "0  0.497602  0.057085\n",
              "1 -0.727106 -0.170707\n",
              "2  0.316244  0.033998\n",
              "3  0.672622 -0.358583\n",
              "4 -0.727106 -0.170707"
            ],
            "text/html": [
              "\n",
              "  <div id=\"df-221c7e36-109a-43af-8dd0-86e5434c2f83\">\n",
              "    <div class=\"colab-df-container\">\n",
              "      <div>\n",
              "<style scoped>\n",
              "    .dataframe tbody tr th:only-of-type {\n",
              "        vertical-align: middle;\n",
              "    }\n",
              "\n",
              "    .dataframe tbody tr th {\n",
              "        vertical-align: top;\n",
              "    }\n",
              "\n",
              "    .dataframe thead th {\n",
              "        text-align: right;\n",
              "    }\n",
              "</style>\n",
              "<table border=\"1\" class=\"dataframe\">\n",
              "  <thead>\n",
              "    <tr style=\"text-align: right;\">\n",
              "      <th></th>\n",
              "      <th>col1</th>\n",
              "      <th>col2</th>\n",
              "    </tr>\n",
              "  </thead>\n",
              "  <tbody>\n",
              "    <tr>\n",
              "      <th>0</th>\n",
              "      <td>0.497602</td>\n",
              "      <td>0.057085</td>\n",
              "    </tr>\n",
              "    <tr>\n",
              "      <th>1</th>\n",
              "      <td>-0.727106</td>\n",
              "      <td>-0.170707</td>\n",
              "    </tr>\n",
              "    <tr>\n",
              "      <th>2</th>\n",
              "      <td>0.316244</td>\n",
              "      <td>0.033998</td>\n",
              "    </tr>\n",
              "    <tr>\n",
              "      <th>3</th>\n",
              "      <td>0.672622</td>\n",
              "      <td>-0.358583</td>\n",
              "    </tr>\n",
              "    <tr>\n",
              "      <th>4</th>\n",
              "      <td>-0.727106</td>\n",
              "      <td>-0.170707</td>\n",
              "    </tr>\n",
              "  </tbody>\n",
              "</table>\n",
              "</div>\n",
              "      <button class=\"colab-df-convert\" onclick=\"convertToInteractive('df-221c7e36-109a-43af-8dd0-86e5434c2f83')\"\n",
              "              title=\"Convert this dataframe to an interactive table.\"\n",
              "              style=\"display:none;\">\n",
              "        \n",
              "  <svg xmlns=\"http://www.w3.org/2000/svg\" height=\"24px\"viewBox=\"0 0 24 24\"\n",
              "       width=\"24px\">\n",
              "    <path d=\"M0 0h24v24H0V0z\" fill=\"none\"/>\n",
              "    <path d=\"M18.56 5.44l.94 2.06.94-2.06 2.06-.94-2.06-.94-.94-2.06-.94 2.06-2.06.94zm-11 1L8.5 8.5l.94-2.06 2.06-.94-2.06-.94L8.5 2.5l-.94 2.06-2.06.94zm10 10l.94 2.06.94-2.06 2.06-.94-2.06-.94-.94-2.06-.94 2.06-2.06.94z\"/><path d=\"M17.41 7.96l-1.37-1.37c-.4-.4-.92-.59-1.43-.59-.52 0-1.04.2-1.43.59L10.3 9.45l-7.72 7.72c-.78.78-.78 2.05 0 2.83L4 21.41c.39.39.9.59 1.41.59.51 0 1.02-.2 1.41-.59l7.78-7.78 2.81-2.81c.8-.78.8-2.07 0-2.86zM5.41 20L4 18.59l7.72-7.72 1.47 1.35L5.41 20z\"/>\n",
              "  </svg>\n",
              "      </button>\n",
              "      \n",
              "  <style>\n",
              "    .colab-df-container {\n",
              "      display:flex;\n",
              "      flex-wrap:wrap;\n",
              "      gap: 12px;\n",
              "    }\n",
              "\n",
              "    .colab-df-convert {\n",
              "      background-color: #E8F0FE;\n",
              "      border: none;\n",
              "      border-radius: 50%;\n",
              "      cursor: pointer;\n",
              "      display: none;\n",
              "      fill: #1967D2;\n",
              "      height: 32px;\n",
              "      padding: 0 0 0 0;\n",
              "      width: 32px;\n",
              "    }\n",
              "\n",
              "    .colab-df-convert:hover {\n",
              "      background-color: #E2EBFA;\n",
              "      box-shadow: 0px 1px 2px rgba(60, 64, 67, 0.3), 0px 1px 3px 1px rgba(60, 64, 67, 0.15);\n",
              "      fill: #174EA6;\n",
              "    }\n",
              "\n",
              "    [theme=dark] .colab-df-convert {\n",
              "      background-color: #3B4455;\n",
              "      fill: #D2E3FC;\n",
              "    }\n",
              "\n",
              "    [theme=dark] .colab-df-convert:hover {\n",
              "      background-color: #434B5C;\n",
              "      box-shadow: 0px 1px 3px 1px rgba(0, 0, 0, 0.15);\n",
              "      filter: drop-shadow(0px 1px 2px rgba(0, 0, 0, 0.3));\n",
              "      fill: #FFFFFF;\n",
              "    }\n",
              "  </style>\n",
              "\n",
              "      <script>\n",
              "        const buttonEl =\n",
              "          document.querySelector('#df-221c7e36-109a-43af-8dd0-86e5434c2f83 button.colab-df-convert');\n",
              "        buttonEl.style.display =\n",
              "          google.colab.kernel.accessAllowed ? 'block' : 'none';\n",
              "\n",
              "        async function convertToInteractive(key) {\n",
              "          const element = document.querySelector('#df-221c7e36-109a-43af-8dd0-86e5434c2f83');\n",
              "          const dataTable =\n",
              "            await google.colab.kernel.invokeFunction('convertToInteractive',\n",
              "                                                     [key], {});\n",
              "          if (!dataTable) return;\n",
              "\n",
              "          const docLinkHtml = 'Like what you see? Visit the ' +\n",
              "            '<a target=\"_blank\" href=https://colab.research.google.com/notebooks/data_table.ipynb>data table notebook</a>'\n",
              "            + ' to learn more about interactive tables.';\n",
              "          element.innerHTML = '';\n",
              "          dataTable['output_type'] = 'display_data';\n",
              "          await google.colab.output.renderOutput(dataTable, element);\n",
              "          const docLink = document.createElement('div');\n",
              "          docLink.innerHTML = docLinkHtml;\n",
              "          element.appendChild(docLink);\n",
              "        }\n",
              "      </script>\n",
              "    </div>\n",
              "  </div>\n",
              "  "
            ]
          },
          "metadata": {},
          "execution_count": 29
        }
      ]
    },
    {
      "cell_type": "code",
      "source": [
        "p=x.copy()\n",
        "c3 = DimensionReduction(\"TSNE\", p,2)  \n",
        "p=c3.reduce_data()\n",
        "p.head()"
      ],
      "metadata": {
        "colab": {
          "base_uri": "https://localhost:8080/",
          "height": 206
        },
        "id": "oSbm2DVh3FNH",
        "outputId": "21da6053-68d8-4928-c082-97208593a410"
      },
      "id": "oSbm2DVh3FNH",
      "execution_count": null,
      "outputs": [
        {
          "output_type": "execute_result",
          "data": {
            "text/plain": [
              "        col1       col2\n",
              "0   6.904047  -2.575220\n",
              "1 -28.963585  -6.368602\n",
              "2   8.992325   3.355098\n",
              "3   2.661368 -22.281294\n",
              "4 -26.044163  -7.678614"
            ],
            "text/html": [
              "\n",
              "  <div id=\"df-dd36c1d9-c93a-4357-ab14-0581f35f3105\">\n",
              "    <div class=\"colab-df-container\">\n",
              "      <div>\n",
              "<style scoped>\n",
              "    .dataframe tbody tr th:only-of-type {\n",
              "        vertical-align: middle;\n",
              "    }\n",
              "\n",
              "    .dataframe tbody tr th {\n",
              "        vertical-align: top;\n",
              "    }\n",
              "\n",
              "    .dataframe thead th {\n",
              "        text-align: right;\n",
              "    }\n",
              "</style>\n",
              "<table border=\"1\" class=\"dataframe\">\n",
              "  <thead>\n",
              "    <tr style=\"text-align: right;\">\n",
              "      <th></th>\n",
              "      <th>col1</th>\n",
              "      <th>col2</th>\n",
              "    </tr>\n",
              "  </thead>\n",
              "  <tbody>\n",
              "    <tr>\n",
              "      <th>0</th>\n",
              "      <td>6.904047</td>\n",
              "      <td>-2.575220</td>\n",
              "    </tr>\n",
              "    <tr>\n",
              "      <th>1</th>\n",
              "      <td>-28.963585</td>\n",
              "      <td>-6.368602</td>\n",
              "    </tr>\n",
              "    <tr>\n",
              "      <th>2</th>\n",
              "      <td>8.992325</td>\n",
              "      <td>3.355098</td>\n",
              "    </tr>\n",
              "    <tr>\n",
              "      <th>3</th>\n",
              "      <td>2.661368</td>\n",
              "      <td>-22.281294</td>\n",
              "    </tr>\n",
              "    <tr>\n",
              "      <th>4</th>\n",
              "      <td>-26.044163</td>\n",
              "      <td>-7.678614</td>\n",
              "    </tr>\n",
              "  </tbody>\n",
              "</table>\n",
              "</div>\n",
              "      <button class=\"colab-df-convert\" onclick=\"convertToInteractive('df-dd36c1d9-c93a-4357-ab14-0581f35f3105')\"\n",
              "              title=\"Convert this dataframe to an interactive table.\"\n",
              "              style=\"display:none;\">\n",
              "        \n",
              "  <svg xmlns=\"http://www.w3.org/2000/svg\" height=\"24px\"viewBox=\"0 0 24 24\"\n",
              "       width=\"24px\">\n",
              "    <path d=\"M0 0h24v24H0V0z\" fill=\"none\"/>\n",
              "    <path d=\"M18.56 5.44l.94 2.06.94-2.06 2.06-.94-2.06-.94-.94-2.06-.94 2.06-2.06.94zm-11 1L8.5 8.5l.94-2.06 2.06-.94-2.06-.94L8.5 2.5l-.94 2.06-2.06.94zm10 10l.94 2.06.94-2.06 2.06-.94-2.06-.94-.94-2.06-.94 2.06-2.06.94z\"/><path d=\"M17.41 7.96l-1.37-1.37c-.4-.4-.92-.59-1.43-.59-.52 0-1.04.2-1.43.59L10.3 9.45l-7.72 7.72c-.78.78-.78 2.05 0 2.83L4 21.41c.39.39.9.59 1.41.59.51 0 1.02-.2 1.41-.59l7.78-7.78 2.81-2.81c.8-.78.8-2.07 0-2.86zM5.41 20L4 18.59l7.72-7.72 1.47 1.35L5.41 20z\"/>\n",
              "  </svg>\n",
              "      </button>\n",
              "      \n",
              "  <style>\n",
              "    .colab-df-container {\n",
              "      display:flex;\n",
              "      flex-wrap:wrap;\n",
              "      gap: 12px;\n",
              "    }\n",
              "\n",
              "    .colab-df-convert {\n",
              "      background-color: #E8F0FE;\n",
              "      border: none;\n",
              "      border-radius: 50%;\n",
              "      cursor: pointer;\n",
              "      display: none;\n",
              "      fill: #1967D2;\n",
              "      height: 32px;\n",
              "      padding: 0 0 0 0;\n",
              "      width: 32px;\n",
              "    }\n",
              "\n",
              "    .colab-df-convert:hover {\n",
              "      background-color: #E2EBFA;\n",
              "      box-shadow: 0px 1px 2px rgba(60, 64, 67, 0.3), 0px 1px 3px 1px rgba(60, 64, 67, 0.15);\n",
              "      fill: #174EA6;\n",
              "    }\n",
              "\n",
              "    [theme=dark] .colab-df-convert {\n",
              "      background-color: #3B4455;\n",
              "      fill: #D2E3FC;\n",
              "    }\n",
              "\n",
              "    [theme=dark] .colab-df-convert:hover {\n",
              "      background-color: #434B5C;\n",
              "      box-shadow: 0px 1px 3px 1px rgba(0, 0, 0, 0.15);\n",
              "      filter: drop-shadow(0px 1px 2px rgba(0, 0, 0, 0.3));\n",
              "      fill: #FFFFFF;\n",
              "    }\n",
              "  </style>\n",
              "\n",
              "      <script>\n",
              "        const buttonEl =\n",
              "          document.querySelector('#df-dd36c1d9-c93a-4357-ab14-0581f35f3105 button.colab-df-convert');\n",
              "        buttonEl.style.display =\n",
              "          google.colab.kernel.accessAllowed ? 'block' : 'none';\n",
              "\n",
              "        async function convertToInteractive(key) {\n",
              "          const element = document.querySelector('#df-dd36c1d9-c93a-4357-ab14-0581f35f3105');\n",
              "          const dataTable =\n",
              "            await google.colab.kernel.invokeFunction('convertToInteractive',\n",
              "                                                     [key], {});\n",
              "          if (!dataTable) return;\n",
              "\n",
              "          const docLinkHtml = 'Like what you see? Visit the ' +\n",
              "            '<a target=\"_blank\" href=https://colab.research.google.com/notebooks/data_table.ipynb>data table notebook</a>'\n",
              "            + ' to learn more about interactive tables.';\n",
              "          element.innerHTML = '';\n",
              "          dataTable['output_type'] = 'display_data';\n",
              "          await google.colab.output.renderOutput(dataTable, element);\n",
              "          const docLink = document.createElement('div');\n",
              "          docLink.innerHTML = docLinkHtml;\n",
              "          element.appendChild(docLink);\n",
              "        }\n",
              "      </script>\n",
              "    </div>\n",
              "  </div>\n",
              "  "
            ]
          },
          "metadata": {},
          "execution_count": 30
        }
      ]
    },
    {
      "cell_type": "code",
      "source": [
        "builder design pattern\n",
        "chain of responsibility\n"
      ],
      "metadata": {
        "id": "e-Bq9VL6m0Lw"
      },
      "id": "e-Bq9VL6m0Lw",
      "execution_count": null,
      "outputs": []
    },
    {
      "cell_type": "markdown",
      "source": [
        "####Find Optimal No. of clusters"
      ],
      "metadata": {
        "id": "2pZ42AfGm1Vi"
      },
      "id": "2pZ42AfGm1Vi"
    },
    {
      "cell_type": "markdown",
      "source": [
        "#####Elbow Method"
      ],
      "metadata": {
        "id": "pSPehSJVnYw0"
      },
      "id": "pSPehSJVnYw0"
    },
    {
      "cell_type": "markdown",
      "source": [
        "To determine the optimal number of clusters, we have to select the value of k at the “elbow” ie the point after which the distortion/inertia start decreasing in a linear fashion. Thus for the given data, we conclude that the optimal number of clusters for the data is 2."
      ],
      "metadata": {
        "id": "9hD75x9hxlT6"
      },
      "id": "9hD75x9hxlT6"
    },
    {
      "cell_type": "code",
      "source": [
        "pip install kneed"
      ],
      "metadata": {
        "colab": {
          "base_uri": "https://localhost:8080/"
        },
        "id": "u15ftoNdm5a1",
        "outputId": "f4c49a56-ef08-4038-f5a8-b22b09ac65ac"
      },
      "id": "u15ftoNdm5a1",
      "execution_count": null,
      "outputs": [
        {
          "output_type": "stream",
          "name": "stdout",
          "text": [
            "Looking in indexes: https://pypi.org/simple, https://us-python.pkg.dev/colab-wheels/public/simple/\n",
            "Collecting kneed\n",
            "  Downloading kneed-0.7.0-py2.py3-none-any.whl (9.4 kB)\n",
            "Requirement already satisfied: numpy>=1.14.2 in /usr/local/lib/python3.7/dist-packages (from kneed) (1.21.6)\n",
            "Requirement already satisfied: matplotlib in /usr/local/lib/python3.7/dist-packages (from kneed) (3.2.2)\n",
            "Requirement already satisfied: scipy in /usr/local/lib/python3.7/dist-packages (from kneed) (1.7.3)\n",
            "Requirement already satisfied: python-dateutil>=2.1 in /usr/local/lib/python3.7/dist-packages (from matplotlib->kneed) (2.8.2)\n",
            "Requirement already satisfied: cycler>=0.10 in /usr/local/lib/python3.7/dist-packages (from matplotlib->kneed) (0.11.0)\n",
            "Requirement already satisfied: kiwisolver>=1.0.1 in /usr/local/lib/python3.7/dist-packages (from matplotlib->kneed) (1.4.4)\n",
            "Requirement already satisfied: pyparsing!=2.0.4,!=2.1.2,!=2.1.6,>=2.0.1 in /usr/local/lib/python3.7/dist-packages (from matplotlib->kneed) (3.0.9)\n",
            "Requirement already satisfied: typing-extensions in /usr/local/lib/python3.7/dist-packages (from kiwisolver>=1.0.1->matplotlib->kneed) (4.1.1)\n",
            "Requirement already satisfied: six>=1.5 in /usr/local/lib/python3.7/dist-packages (from python-dateutil>=2.1->matplotlib->kneed) (1.15.0)\n",
            "Installing collected packages: kneed\n",
            "Successfully installed kneed-0.7.0\n"
          ]
        }
      ]
    },
    {
      "cell_type": "code",
      "source": [
        "p=x.copy()"
      ],
      "metadata": {
        "id": "CgnupDdIZqrr"
      },
      "id": "CgnupDdIZqrr",
      "execution_count": null,
      "outputs": []
    },
    {
      "cell_type": "code",
      "source": [
        "from sklearn.cluster import KMeans\n",
        "from kneed import DataGenerator, KneeLocator\n",
        "def elbow(x):\n",
        "  # Finding optimal number of clusters using the Elbow method  \n",
        "    \n",
        "  wcss_list= []  #Initializing the list for the values of WCSS  \n",
        "\n",
        "  #Using for loop for iterations from 1 to 10.  \n",
        "  for i in range(1, 11):  \n",
        "    kmeans = KMeans(n_clusters=i, init='k-means++', random_state= 11)  \n",
        "    kmeans.fit(x)  \n",
        "    wcss_list.append(kmeans.inertia_)  \n",
        "\n",
        "\n",
        "  kl = KneeLocator(range(1, 11), wcss_list, curve=\"convex\", direction=\"decreasing\" )\n",
        "  print(\"Value of optimal no. of clusters is : \", kl.elbow)\n",
        "  print()\n",
        "  plt.plot(range(1, 11), wcss_list)  \n",
        "  plt.title('The Elobw Method Graph')  \n",
        "  plt.xlabel('Number of clusters(k)')  \n",
        "  plt.ylabel('wcss_list')  \n",
        "  plt.show() "
      ],
      "metadata": {
        "id": "C1rP0JZ_nEhh"
      },
      "id": "C1rP0JZ_nEhh",
      "execution_count": null,
      "outputs": []
    },
    {
      "cell_type": "code",
      "source": [
        "elbow(p)"
      ],
      "metadata": {
        "colab": {
          "base_uri": "https://localhost:8080/",
          "height": 330
        },
        "id": "puNSGi87nSkj",
        "outputId": "05f534fd-520f-45bf-d86e-7d067b1d90b2"
      },
      "id": "puNSGi87nSkj",
      "execution_count": null,
      "outputs": [
        {
          "output_type": "stream",
          "name": "stdout",
          "text": [
            "Value of optimal no. of clusters is :  2\n",
            "\n"
          ]
        },
        {
          "output_type": "display_data",
          "data": {
            "text/plain": [
              "<Figure size 432x288 with 1 Axes>"
            ],
            "image/png": "[encoded data removed]"
          },
          "metadata": {
            "needs_background": "light"
          }
        }
      ]
    },
    {
      "cell_type": "markdown",
      "source": [
        "#####Silhoutte Visualizer"
      ],
      "metadata": {
        "id": "yIm5wzDancJ9"
      },
      "id": "yIm5wzDancJ9"
    },
    {
      "cell_type": "markdown",
      "source": [
        "Silhouette Coefficient or silhouette score is a metric used to calculate the goodness of a clustering technique. Its value ranges from -1 to 1.\n",
        "\n",
        "1: Means clusters are well apart from each other and clearly distinguished.\n",
        "\n",
        "0: Means clusters are indifferent, or we can say that the distance between clusters is not significant.\n",
        "\n",
        "-1: Means clusters are assigned in the wrong way."
      ],
      "metadata": {
        "id": "zofkeDogxyz4"
      },
      "id": "zofkeDogxyz4"
    },
    {
      "cell_type": "code",
      "source": [
        "# Finding optimal number of clusters using the Silhouette Scores \n",
        "# YellowBrick - a machine learning visualization library to draw the silhouette plots and perform comparative analysis.\n",
        "from sklearn.cluster import KMeans\n",
        "from sklearn.metrics import silhouette_samples, silhouette_score\n",
        "from yellowbrick.cluster import SilhouetteVisualizer\n",
        "\n",
        "def silhoutte(x):\n",
        "  fig, ax = plt.subplots(5, 2, figsize=(17,12))\n",
        "  for i in [2, 3, 4, 5, 6, 7, 8, 9, 10]:\n",
        "    '''\n",
        "    Create KMeans instance for different number of clusters\n",
        "    '''\n",
        "    km = KMeans(n_clusters=i, init='k-means++', random_state=11)\n",
        "    cluster_labels = km.fit_predict(x.values)\n",
        "\n",
        "    # The silhouette_score gives the average value for all the samples.\n",
        "    # This gives a perspective into the density and separation of the formed\n",
        "    # clusters\n",
        "    silhouette_avg = silhouette_score(x.values, cluster_labels)\n",
        "    print(\"For n_clusters =\", i,\n",
        "          \"The average silhouette_score is :\", silhouette_avg)\n",
        "    q, mod = divmod(i, 2)\n",
        "    '''\n",
        "    Create SilhouetteVisualizer instance with KMeans instance\n",
        "    Fit the visualizer\n",
        "    '''\n",
        "    visualizer = SilhouetteVisualizer(km, colors='yellowbrick', ax=ax[q-1][mod])\n",
        "    visualizer.fit(x.values)"
      ],
      "metadata": {
        "id": "EyaBrVIqoIYv"
      },
      "id": "EyaBrVIqoIYv",
      "execution_count": null,
      "outputs": []
    },
    {
      "cell_type": "code",
      "source": [
        "silhoutte(x)"
      ],
      "metadata": {
        "colab": {
          "base_uri": "https://localhost:8080/",
          "height": 856
        },
        "id": "51EMkdznnoTF",
        "outputId": "27b6b1e0-1169-442e-ab5a-57a6acc0335b"
      },
      "id": "51EMkdznnoTF",
      "execution_count": null,
      "outputs": [
        {
          "output_type": "stream",
          "name": "stdout",
          "text": [
            "For n_clusters = 2 The average silhouette_score is : 0.5933363159454307\n",
            "For n_clusters = 3 The average silhouette_score is : 0.43430897285710035\n",
            "For n_clusters = 4 The average silhouette_score is : 0.3837970202363447\n",
            "For n_clusters = 5 The average silhouette_score is : 0.395121757442084\n",
            "For n_clusters = 6 The average silhouette_score is : 0.40985282805867057\n",
            "For n_clusters = 7 The average silhouette_score is : 0.420472401226866\n",
            "For n_clusters = 8 The average silhouette_score is : 0.41702803312850995\n",
            "For n_clusters = 9 The average silhouette_score is : 0.42892160662844725\n",
            "For n_clusters = 10 The average silhouette_score is : 0.4366440012458379\n"
          ]
        },
        {
          "output_type": "display_data",
          "data": {
            "text/plain": [
              "<Figure size 1224x864 with 10 Axes>"
            ],
            "image/png": "[encoded data removed]"
          },
          "metadata": {}
        }
      ]
    },
    {
      "cell_type": "markdown",
      "source": [
        "####Model-  KMeans"
      ],
      "metadata": {
        "id": "ZwyUO_pGocTB"
      },
      "id": "ZwyUO_pGocTB"
    },
    {
      "cell_type": "markdown",
      "source": [
        "K-Means Clustering is an Unsupervised Learning algorithm, which groups the unlabeled dataset into different clusters. Here K defines the number of pre-defined clusters that need to be created in the process, as if K=2, there will be two clusters, and for K=3, there will be three clusters, and so on.\n",
        "\n",
        "The k-means clustering algorithm mainly performs two tasks:\n",
        "\n",
        "Determines the best value for K center points or centroids by an iterative process.\n",
        "\n",
        "Assigns each data point to its closest k-center. Those data points which are near to the particular k-center, create a cluster."
      ],
      "metadata": {
        "id": "VvPv2WSWyBi0"
      },
      "id": "VvPv2WSWyBi0"
    },
    {
      "cell_type": "code",
      "source": [
        "class Kmeans:\n",
        "    def __init__(self,data,n_clusters):  \n",
        "        self.data = data \n",
        "        self.n_clusters = n_clusters  \n",
        "          \n",
        "    def model(self):  \n",
        "          kmeans_model = KMeans(n_clusters=self.n_clusters, init='k-means++', random_state= 11) \n",
        "          return kmeans_model\n",
        "   "
      ],
      "metadata": {
        "id": "XsazWcFkIXeb"
      },
      "id": "XsazWcFkIXeb",
      "execution_count": null,
      "outputs": []
    },
    {
      "cell_type": "code",
      "source": [
        "c6=Kmeans(x,2)\n",
        "model=c6.model()"
      ],
      "metadata": {
        "id": "RsR5PtRLIbjm"
      },
      "id": "RsR5PtRLIbjm",
      "execution_count": null,
      "outputs": []
    },
    {
      "cell_type": "code",
      "source": [
        "def kmean(n_clusters):\n",
        "  kmeans = KMeans(n_clusters=n_clusters, init='k-means++', random_state= 11) \n",
        "  return kmeans"
      ],
      "metadata": {
        "id": "vx7f6M0np029"
      },
      "id": "vx7f6M0np029",
      "execution_count": null,
      "outputs": []
    },
    {
      "cell_type": "code",
      "source": [
        "kmeans=kmean(2)\n",
        "y_pred=kmeans.fit_predict(x)\n",
        "y_pred"
      ],
      "metadata": {
        "colab": {
          "base_uri": "https://localhost:8080/"
        },
        "id": "z1ezPnzzqcH5",
        "outputId": "a58f63ef-f787-4a97-9ddf-1415cd184fd5"
      },
      "id": "z1ezPnzzqcH5",
      "execution_count": null,
      "outputs": [
        {
          "output_type": "execute_result",
          "data": {
            "text/plain": [
              "array([1, 0, 1, ..., 0, 0, 0], dtype=int32)"
            ]
          },
          "metadata": {},
          "execution_count": 37
        }
      ]
    },
    {
      "cell_type": "markdown",
      "source": [
        "####Model-Agglomerative clustering"
      ],
      "metadata": {
        "id": "MM5jtWJ21S00"
      },
      "id": "MM5jtWJ21S00"
    },
    {
      "cell_type": "markdown",
      "source": [
        "Agglomerative Clustering: Also known as bottom-up approach or hierarchical agglomerative clustering (HAC). A structure that is more informative than the unstructured set of clusters returned by flat clustering. This clustering algorithm does not require us to prespecify the number of clusters. Bottom-up algorithms treat each data as a singleton cluster at the outset and then successively agglomerates pairs of clusters until all clusters have been merged into a single cluster that contains all data. "
      ],
      "metadata": {
        "id": "2SEZWbhJ4dtd"
      },
      "id": "2SEZWbhJ4dtd"
    },
    {
      "cell_type": "code",
      "source": [
        "from sklearn.cluster import AgglomerativeClustering\n",
        "from scipy.cluster.hierarchy import linkage\n",
        "from scipy.cluster.hierarchy import dendrogram\n",
        "import matplotlib.pyplot as plt\n",
        "class Agglomerative:  \n",
        "    def __init__(self,name,data,n_clusters):  \n",
        "        self.name = name\n",
        "        self.data = data \n",
        "        self.n_clusters = n_clusters  \n",
        "          \n",
        "    def model(self):  \n",
        "        if self.name=='ward':\n",
        "          return  self.model_ward(self.data,self.n_clusters)\n",
        "        if self.name=='complete':\n",
        "          return  self.model_complete(self.data,self.n_clusters)\n",
        "        if self.name=='average':\n",
        "          return  self.model_average(self.data,self.n_clusters)\n",
        "\n",
        "    def print_dendo(self,x):\n",
        "        linkage_type = self.name\n",
        "        linkage_matrix = linkage(self.data.values, linkage_type)\n",
        "        plt.figure(figsize=(22,18))\n",
        "        dendrogram(linkage_matrix)\n",
        "        plt.show()\n",
        "\n",
        "    def model_ward(self,data,n_clusters):\n",
        "        ward = AgglomerativeClustering(n_clusters=n_clusters) \n",
        "        return ward\n",
        "\n",
        "    def model_complete(self,data,n_clusters):\n",
        "        complete = AgglomerativeClustering(n_clusters=n_clusters, linkage='complete') \n",
        "        return complete\n",
        "\n",
        "    def model_average(self,data,n_clusters):\n",
        "        average = AgglomerativeClustering(n_clusters=n_clusters, linkage='average') \n",
        "        return average\n",
        "\n",
        "  \n",
        "\n",
        "          \n"
      ],
      "metadata": {
        "id": "kiREXjov6Eaf"
      },
      "id": "kiREXjov6Eaf",
      "execution_count": null,
      "outputs": []
    },
    {
      "cell_type": "code",
      "source": [
        "c5=Agglomerative(\"ward\",x,2)\n",
        "model=c5.model()\n"
      ],
      "metadata": {
        "id": "pgY-nFR8AN5i"
      },
      "id": "pgY-nFR8AN5i",
      "execution_count": null,
      "outputs": []
    },
    {
      "cell_type": "markdown",
      "source": [
        "#####Dendogram"
      ],
      "metadata": {
        "id": "aR4X-9j67JVf"
      },
      "id": "aR4X-9j67JVf"
    },
    {
      "cell_type": "code",
      "source": [
        "# Import scipy's linkage function to conduct the clustering\n",
        "from sklearn.cluster import AgglomerativeClustering\n",
        "from scipy.cluster.hierarchy import linkage\n",
        "from scipy.cluster.hierarchy import dendrogram\n",
        "import matplotlib.pyplot as plt\n",
        "\n",
        "def print_dendo(x,s):\n",
        "  linkage_type = s\n",
        "\n",
        "  linkage_matrix = linkage(x.values, linkage_type)\n",
        "\n",
        "\n",
        "  plt.figure(figsize=(22,18))\n",
        "\n",
        "  # plot using 'dendrogram()'\n",
        "  dendrogram(linkage_matrix)\n",
        "\n",
        "  plt.show()\n",
        "\n",
        "\n"
      ],
      "metadata": {
        "id": "AcqX3XWq7jws"
      },
      "id": "AcqX3XWq7jws",
      "execution_count": null,
      "outputs": []
    },
    {
      "cell_type": "markdown",
      "source": [
        "#####Ward Linkage"
      ],
      "metadata": {
        "id": "Lh6YudYx4RF7"
      },
      "id": "Lh6YudYx4RF7"
    },
    {
      "cell_type": "markdown",
      "source": [
        "For Ward’s linkage, two clusters are merged based on their error sum of square (ESS) values. The two clusters with the lowest ESS are merged. This process repeats until there is only a single cluster left."
      ],
      "metadata": {
        "id": "dWmR9BqU5h8J"
      },
      "id": "dWmR9BqU5h8J"
    },
    {
      "cell_type": "code",
      "source": [
        "print_dendo(x,'ward')"
      ],
      "metadata": {
        "colab": {
          "base_uri": "https://localhost:8080/",
          "height": 909
        },
        "id": "CtQf2YGz8s0q",
        "outputId": "d14990aa-7b0a-432f-e127-3883b29a1797"
      },
      "id": "CtQf2YGz8s0q",
      "execution_count": null,
      "outputs": [
        {
          "output_type": "display_data",
          "data": {
            "text/plain": [
              "<Figure size 1584x1296 with 1 Axes>"
            ],
            "image/png": "[encoded data removed]"
          },
          "metadata": {}
        }
      ]
    },
    {
      "cell_type": "code",
      "source": [
        "from sklearn.cluster import AgglomerativeClustering\n",
        "def wardl(n_clusters):\n",
        "  ward = AgglomerativeClustering(n_clusters=n_clusters) \n",
        "  return ward"
      ],
      "metadata": {
        "id": "cXEJ7w5F3uIl"
      },
      "id": "cXEJ7w5F3uIl",
      "execution_count": null,
      "outputs": []
    },
    {
      "cell_type": "code",
      "source": [
        "ward=wardl(2)\n",
        "y_predict=ward.fit_predict(x)"
      ],
      "metadata": {
        "id": "e1Z5tk1S5wN6"
      },
      "id": "e1Z5tk1S5wN6",
      "execution_count": null,
      "outputs": []
    },
    {
      "cell_type": "code",
      "source": [
        "y_predict"
      ],
      "metadata": {
        "colab": {
          "base_uri": "https://localhost:8080/"
        },
        "id": "-56WKoNh5wKa",
        "outputId": "04429a54-da2c-43b0-840c-27e4423d4ce3"
      },
      "id": "-56WKoNh5wKa",
      "execution_count": null,
      "outputs": [
        {
          "output_type": "execute_result",
          "data": {
            "text/plain": [
              "array([1, 0, 1, ..., 0, 0, 0])"
            ]
          },
          "metadata": {},
          "execution_count": 75
        }
      ]
    },
    {
      "cell_type": "code",
      "source": [
        ""
      ],
      "metadata": {
        "id": "4FbF5LJO5v_R"
      },
      "id": "4FbF5LJO5v_R",
      "execution_count": null,
      "outputs": []
    },
    {
      "cell_type": "code",
      "source": [
        ""
      ],
      "metadata": {
        "id": "mGV5Ag3Y5u_3"
      },
      "id": "mGV5Ag3Y5u_3",
      "execution_count": null,
      "outputs": []
    },
    {
      "cell_type": "markdown",
      "source": [
        "#####Complete Linkage"
      ],
      "metadata": {
        "id": "HF1DuT2U4uau"
      },
      "id": "HF1DuT2U4uau"
    },
    {
      "cell_type": "markdown",
      "source": [
        "For two clusters R and S, the complete linkage returns the maximum distance between two points i and j such that i belongs to R and j belongs to S.\n",
        "\n",
        "L(R, S) = max(D(i, j))"
      ],
      "metadata": {
        "id": "o8KB9sXp4yEn"
      },
      "id": "o8KB9sXp4yEn"
    },
    {
      "cell_type": "code",
      "source": [
        "from sklearn.cluster import AgglomerativeClustering\n",
        "def compl(n_clusters):\n",
        "  complete = AgglomerativeClustering(n_clusters=n_clusters, linkage='complete') \n",
        "  return complete"
      ],
      "metadata": {
        "id": "2fkcQTLG38Ny"
      },
      "id": "2fkcQTLG38Ny",
      "execution_count": null,
      "outputs": []
    },
    {
      "cell_type": "markdown",
      "source": [
        "#####Average Linkage"
      ],
      "metadata": {
        "id": "EUdf_ZZL5ATa"
      },
      "id": "EUdf_ZZL5ATa"
    },
    {
      "cell_type": "markdown",
      "source": [
        "For two clusters R and S, first for the distance between any data-point i in R and any data-point j in S and then the arithmetic mean of these distances are calculated. Average Linkage returns this value of the arithmetic mean."
      ],
      "metadata": {
        "id": "U3gn71io5ECH"
      },
      "id": "U3gn71io5ECH"
    },
    {
      "cell_type": "code",
      "source": [
        "from sklearn.cluster import AgglomerativeClustering\n",
        "def avgl(n_clusters):\n",
        "  avg = AgglomerativeClustering(n_clusters=n_clusters, linkage='average') \n",
        "  return avg"
      ],
      "metadata": {
        "id": "EJetr9Qu4EG7"
      },
      "id": "EJetr9Qu4EG7",
      "execution_count": null,
      "outputs": []
    },
    {
      "cell_type": "markdown",
      "source": [
        "####Model- DBSCAN"
      ],
      "metadata": {
        "id": "HTLE7zHYG_fu"
      },
      "id": "HTLE7zHYG_fu"
    },
    {
      "cell_type": "code",
      "source": [
        "from sklearn.cluster import DBSCAN\n",
        "class DB_SCAN:\n",
        "    def __init__(self,data,eps,min_samples):  \n",
        "        self.data = data \n",
        "        self.eps=eps\n",
        "        self.min_samples=min_samples\n",
        "          \n",
        "    def model(self):  \n",
        "          dbscan_model = DBSCAN(eps=self.eps,min_samples=self.min_samples) \n",
        "          return dbscan_model\n",
        "   "
      ],
      "metadata": {
        "id": "R0iqqAm2HZM5"
      },
      "id": "R0iqqAm2HZM5",
      "execution_count": null,
      "outputs": []
    },
    {
      "cell_type": "code",
      "source": [
        "c6=DB_SCAN(x,0.5,5)\n",
        "model=c6.model()"
      ],
      "metadata": {
        "id": "-AI7TpE5HZKG"
      },
      "id": "-AI7TpE5HZKG",
      "execution_count": null,
      "outputs": []
    },
    {
      "cell_type": "code",
      "source": [
        ""
      ],
      "metadata": {
        "id": "06x9B6YbHZF7"
      },
      "id": "06x9B6YbHZF7",
      "execution_count": null,
      "outputs": []
    },
    {
      "cell_type": "markdown",
      "source": [
        "####Performance Measures"
      ],
      "metadata": {
        "id": "aNGn7LdxqpKF"
      },
      "id": "aNGn7LdxqpKF"
    },
    {
      "cell_type": "code",
      "source": [
        "from abc import ABC, abstractmethod\n",
        "from sklearn.metrics import davies_bouldin_score\n",
        "from sklearn.metrics import adjusted_rand_score\n",
        "from sklearn.metrics import calinski_harabasz_score\n",
        "from sklearn.metrics import silhouette_samples, silhouette_score\n",
        "\n",
        "class Performance(ABC):\n",
        "\n",
        "  @abstractmethod\n",
        "  def get_score(self):\n",
        "        pass\n",
        "\n",
        "class DBIndex(Performance):\n",
        "    def __init__(self,data,labels):  \n",
        "        self.data = data \n",
        "        self.labels = labels  \n",
        "          \n",
        "    def get_score(self):  \n",
        "          db_index=davies_bouldin_score(x, labels)\n",
        "          return db_index.round(3)\n",
        "\n",
        "class Silscore(Performance):\n",
        "    def __init__(self,data,labels):  \n",
        "        self.data = data \n",
        "        self.labels = labels  \n",
        "          \n",
        "    def get_score(self):  \n",
        "          return silhouette_score(x,labels).round(3)\n",
        "\n",
        "class Calharscore(Performance):\n",
        "    def __init__(self,data,labels):  \n",
        "        self.data = data \n",
        "        self.labels = labels  \n",
        "          \n",
        "    def get_score(self):  \n",
        "          ch_index = calinski_harabasz_score(x, labels)\n",
        "          return ch_index  \n",
        "\n",
        "class Adjrandscore(Performance):\n",
        "    def __init__(self,data,labels,true_labels):  \n",
        "        self.data = data \n",
        "        self.labels = labels \n",
        "        self.true_labels = true_labels \n",
        "          \n",
        "    def get_score(self):  \n",
        "          return adjusted_rand_score(true_labels, labels).round(2)\n",
        "\n",
        "\n"
      ],
      "metadata": {
        "id": "wnSnXRf0y03X"
      },
      "id": "wnSnXRf0y03X",
      "execution_count": null,
      "outputs": []
    },
    {
      "cell_type": "markdown",
      "source": [
        "#####DB-Index"
      ],
      "metadata": {
        "id": "3Od7ANjEqux-"
      },
      "id": "3Od7ANjEqux-"
    },
    {
      "cell_type": "markdown",
      "source": [
        "The Davies–Bouldin index (DBI) (introduced by David L. Davies and Donald W. Bouldin in 1979), a metric for evaluating clustering algorithms, is an internal evaluation scheme, where the validation of how well the clustering has been done is made using quantities and features inherent to the dataset. Lower the DB index value, better is the clustering. It also has a drawback. A good value reported by this method does not imply the best information retrieval."
      ],
      "metadata": {
        "id": "PUExjuwKxpAp"
      },
      "id": "PUExjuwKxpAp"
    },
    {
      "cell_type": "code",
      "source": [
        "from sklearn.metrics import davies_bouldin_score"
      ],
      "metadata": {
        "id": "kNpFZbl7s0Sy"
      },
      "id": "kNpFZbl7s0Sy",
      "execution_count": null,
      "outputs": []
    },
    {
      "cell_type": "code",
      "source": [
        "from sklearn.metrics import davies_bouldin_score\n",
        "def db(x,labels):\n",
        "  db_index=davies_bouldin_score(x, labels)\n",
        "  return db_index\n",
        "\n",
        "db_index=db(x,kmeans.labels_)\n",
        "db_index  "
      ],
      "metadata": {
        "id": "SmTDBSMAs2Xk"
      },
      "id": "SmTDBSMAs2Xk",
      "execution_count": null,
      "outputs": []
    },
    {
      "cell_type": "code",
      "source": [
        "from sklearn.metrics import davies_bouldin_score\n",
        "from sklearn.metrics import adjusted_rand_score\n",
        "from sklearn.metrics import calinski_harabasz_score"
      ],
      "metadata": {
        "id": "0u652xxB81WZ"
      },
      "id": "0u652xxB81WZ",
      "execution_count": null,
      "outputs": []
    },
    {
      "cell_type": "code",
      "source": [
        "from sklearn.metrics import davies_bouldin_score\n",
        "def db(x,labels):\n",
        "  db_index=davies_bouldin_score(x, labels)\n",
        "  return db_index"
      ],
      "metadata": {
        "id": "8HCJU2j3q2lg"
      },
      "id": "8HCJU2j3q2lg",
      "execution_count": null,
      "outputs": []
    },
    {
      "cell_type": "code",
      "source": [
        "db_index=db(x,kmeans.labels_)\n",
        "db_index"
      ],
      "metadata": {
        "colab": {
          "base_uri": "https://localhost:8080/"
        },
        "id": "m-BMEmZSrM0L",
        "outputId": "00edd169-b201-43e4-f415-ef8855f0718c"
      },
      "id": "m-BMEmZSrM0L",
      "execution_count": null,
      "outputs": [
        {
          "output_type": "execute_result",
          "data": {
            "text/plain": [
              "0.6453899191222662"
            ]
          },
          "metadata": {},
          "execution_count": 39
        }
      ]
    },
    {
      "cell_type": "markdown",
      "source": [
        "#####Silhaoutte Score"
      ],
      "metadata": {
        "id": "P6WX3DPSt8Ks"
      },
      "id": "P6WX3DPSt8Ks"
    },
    {
      "cell_type": "markdown",
      "source": [
        "Silhouette Coefficient or silhouette score is a metric used to calculate the goodness of a clustering technique. Its value ranges from -1 to 1.\n",
        "\n",
        "1: Means clusters are well apart from each other and clearly distinguished.\n",
        "\n",
        "0: Means clusters are indifferent, or we can say that the distance between clusters is not significant.\n",
        "\n",
        "-1: Means clusters are assigned in the wrong way."
      ],
      "metadata": {
        "id": "vwFEC9IgxwSw"
      },
      "id": "vwFEC9IgxwSw"
    },
    {
      "cell_type": "code",
      "source": [
        "def silscore(x,labels):\n",
        "  return silhouette_score(x,labels).round(3)\n"
      ],
      "metadata": {
        "id": "UYWUAHp4uDI9"
      },
      "id": "UYWUAHp4uDI9",
      "execution_count": null,
      "outputs": []
    },
    {
      "cell_type": "code",
      "source": [
        "silvalue=silscore(x,kmeans.labels_)\n",
        "silvalue"
      ],
      "metadata": {
        "colab": {
          "base_uri": "https://localhost:8080/"
        },
        "id": "gWNnq2V7uOSj",
        "outputId": "6d554654-964f-47f0-f433-8904566fb742"
      },
      "id": "gWNnq2V7uOSj",
      "execution_count": null,
      "outputs": [
        {
          "output_type": "execute_result",
          "data": {
            "text/plain": [
              "0.593"
            ]
          },
          "metadata": {},
          "execution_count": 53
        }
      ]
    },
    {
      "cell_type": "markdown",
      "source": [
        "#####Adjusted rand Index"
      ],
      "metadata": {
        "id": "wTrcW_a8rZgl"
      },
      "id": "wTrcW_a8rZgl"
    },
    {
      "cell_type": "markdown",
      "source": [
        "Rand index adjusted for chance.\n",
        "\n",
        "The Rand Index computes a similarity measure between two clusterings by considering all pairs of samples and counting pairs that are assigned in the same or different clusters in the predicted and true clusterings."
      ],
      "metadata": {
        "id": "104eDeN1ymOK"
      },
      "id": "104eDeN1ymOK"
    },
    {
      "cell_type": "code",
      "source": [
        "from sklearn.metrics import adjusted_rand_score\n",
        "def adj(true_labels,labels):\n",
        "    return adjusted_rand_score(true_labels, labels).round(2)"
      ],
      "metadata": {
        "id": "i5xL7dIjuhyl"
      },
      "id": "i5xL7dIjuhyl",
      "execution_count": null,
      "outputs": []
    },
    {
      "cell_type": "markdown",
      "source": [
        "#####Calinski- Harabasz Index"
      ],
      "metadata": {
        "id": "Z2_lNS9uvux8"
      },
      "id": "Z2_lNS9uvux8"
    },
    {
      "cell_type": "markdown",
      "source": [
        "Compute the Calinski and Harabasz score.\n",
        "\n",
        "It is also known as the Variance Ratio Criterion.\n",
        "\n",
        "The score is defined as ratio of the sum of between-cluster dispersion and of within-cluster dispersion.\n",
        "The CH Index is a measure of how similar an object is to its own cluster (cohesion) compared to other clusters (separation).  "
      ],
      "metadata": {
        "id": "Hx4v-EKfwm9Z"
      },
      "id": "Hx4v-EKfwm9Z"
    },
    {
      "cell_type": "code",
      "source": [
        "from sklearn.metrics import calinski_harabasz_score\n",
        "def calin_hara(x,labels):\n",
        "  ch_index = calinski_harabasz_score(x, labels)\n",
        "  return ch_index"
      ],
      "metadata": {
        "id": "ecfYXw7SvzHR"
      },
      "id": "ecfYXw7SvzHR",
      "execution_count": null,
      "outputs": []
    },
    {
      "cell_type": "code",
      "source": [
        "ch_index=calin_hara(x,kmeans.labels_)\n",
        "ch_index"
      ],
      "metadata": {
        "colab": {
          "base_uri": "https://localhost:8080/"
        },
        "id": "49S2IPbPwF82",
        "outputId": "d88c25cc-59fd-4d61-d598-abe178d9f677"
      },
      "id": "49S2IPbPwF82",
      "execution_count": null,
      "outputs": [
        {
          "output_type": "execute_result",
          "data": {
            "text/plain": [
              "1993.0778802601171"
            ]
          },
          "metadata": {},
          "execution_count": 57
        }
      ]
    },
    {
      "cell_type": "markdown",
      "source": [
        "####Visualisation"
      ],
      "metadata": {
        "id": "X7y5svEZzjbZ"
      },
      "id": "X7y5svEZzjbZ"
    },
    {
      "cell_type": "code",
      "source": [
        "def visualisee(x,labels):\n",
        "  x=reduced_data(x)\n",
        "  x['clusters'] = labels\n",
        "  sns.scatterplot(x=\"col1\", y=\"col2\", hue=x['clusters'], data=x)\n",
        "  plt.title('K-means Clustering with 2 dimensions')\n",
        "  plt.show()"
      ],
      "metadata": {
        "id": "kmkPdugS6sRf"
      },
      "id": "kmkPdugS6sRf",
      "execution_count": null,
      "outputs": []
    },
    {
      "cell_type": "code",
      "source": [
        "def visualise(x,labels):\n",
        "  x['clusters'] = labels\n",
        "  sns.scatterplot(x=\"pca1\", y=\"pca2\", hue=x['clusters'], data=x)\n",
        "  plt.title('K-means Clustering with 2 dimensions')\n",
        "  plt.show()"
      ],
      "metadata": {
        "id": "nxx3Luodzmih"
      },
      "id": "nxx3Luodzmih",
      "execution_count": null,
      "outputs": []
    },
    {
      "cell_type": "code",
      "source": [
        "!pip install umap-learn"
      ],
      "metadata": {
        "colab": {
          "base_uri": "https://localhost:8080/"
        },
        "id": "jitxt-6HqNgi",
        "outputId": "3811a699-996f-48ca-d798-f625cea7e2db"
      },
      "id": "jitxt-6HqNgi",
      "execution_count": null,
      "outputs": [
        {
          "output_type": "stream",
          "name": "stdout",
          "text": [
            "Looking in indexes: https://pypi.org/simple, https://us-python.pkg.dev/colab-wheels/public/simple/\n",
            "Collecting umap-learn\n",
            "  Downloading umap-learn-0.5.3.tar.gz (88 kB)\n",
            "\u001b[K     |████████████████████████████████| 88 kB 3.8 MB/s \n",
            "\u001b[?25hRequirement already satisfied: numpy>=1.17 in /usr/local/lib/python3.7/dist-packages (from umap-learn) (1.21.6)\n",
            "Requirement already satisfied: scikit-learn>=0.22 in /usr/local/lib/python3.7/dist-packages (from umap-learn) (1.0.2)\n",
            "Requirement already satisfied: scipy>=1.0 in /usr/local/lib/python3.7/dist-packages (from umap-learn) (1.7.3)\n",
            "Requirement already satisfied: numba>=0.49 in /usr/local/lib/python3.7/dist-packages (from umap-learn) (0.51.2)\n",
            "Collecting pynndescent>=0.5\n",
            "  Downloading pynndescent-0.5.7.tar.gz (1.1 MB)\n",
            "\u001b[K     |████████████████████████████████| 1.1 MB 7.0 MB/s \n",
            "\u001b[?25hRequirement already satisfied: tqdm in /usr/local/lib/python3.7/dist-packages (from umap-learn) (4.64.0)\n",
            "Requirement already satisfied: llvmlite<0.35,>=0.34.0.dev0 in /usr/local/lib/python3.7/dist-packages (from numba>=0.49->umap-learn) (0.34.0)\n",
            "Requirement already satisfied: setuptools in /usr/local/lib/python3.7/dist-packages (from numba>=0.49->umap-learn) (57.4.0)\n",
            "Requirement already satisfied: joblib>=0.11 in /usr/local/lib/python3.7/dist-packages (from pynndescent>=0.5->umap-learn) (1.1.0)\n",
            "Requirement already satisfied: threadpoolctl>=2.0.0 in /usr/local/lib/python3.7/dist-packages (from scikit-learn>=0.22->umap-learn) (3.1.0)\n",
            "Building wheels for collected packages: umap-learn, pynndescent\n",
            "  Building wheel for umap-learn (setup.py) ... \u001b[?25l\u001b[?25hdone\n",
            "  Created wheel for umap-learn: filename=umap_learn-0.5.3-py3-none-any.whl size=82829 sha256=9ab9960269c395f4aa824ee528fe145263bb851711e71fe7a961a7f13b38f1b8\n",
            "  Stored in directory: /root/.cache/pip/wheels/b3/52/a5/1fd9e3e76a7ab34f134c07469cd6f16e27ef3a37aeff1fe821\n",
            "  Building wheel for pynndescent (setup.py) ... \u001b[?25l\u001b[?25hdone\n",
            "  Created wheel for pynndescent: filename=pynndescent-0.5.7-py3-none-any.whl size=54286 sha256=484404f5d75e6f74dc38fa48fdafccad96bf8a76eacb80326f37c8c76c59ffb6\n",
            "  Stored in directory: /root/.cache/pip/wheels/7f/2a/f8/7bd5dcec71bd5c669f6f574db3113513696b98f3f9b51f496c\n",
            "Successfully built umap-learn pynndescent\n",
            "Installing collected packages: pynndescent, umap-learn\n",
            "Successfully installed pynndescent-0.5.7 umap-learn-0.5.3\n"
          ]
        }
      ]
    },
    {
      "cell_type": "code",
      "source": [
        "import umap\n",
        "def reduced_data(x):\n",
        "        reduce_data =umap.UMAP(n_components=2).fit_transform(x)\n",
        "        results = pd.DataFrame(reduce_data,columns=['col1','col2'])\n",
        "        return results"
      ],
      "metadata": {
        "id": "3NwrtOdcpQMb"
      },
      "id": "3NwrtOdcpQMb",
      "execution_count": null,
      "outputs": []
    },
    {
      "cell_type": "code",
      "source": [
        "def visualisee(x,labels):\n",
        "  x=reduced_data(x)\n",
        "  x['clusters'] = labels\n",
        "  sns.scatterplot(x=\"pca1\", y=\"pca2\", hue=x['clusters'], data=x)\n",
        "  plt.title('K-means Clustering with 2 dimensions')\n",
        "  plt.show()"
      ],
      "metadata": {
        "id": "BU48e-wVpM53"
      },
      "id": "BU48e-wVpM53",
      "execution_count": null,
      "outputs": []
    },
    {
      "cell_type": "code",
      "source": [
        "visualisee(x,y_db)"
      ],
      "metadata": {
        "colab": {
          "base_uri": "https://localhost:8080/",
          "height": 295
        },
        "id": "m_GxxTzy6czE",
        "outputId": "e3c99ebe-c1f0-4fca-9193-516b7baf8253"
      },
      "id": "m_GxxTzy6czE",
      "execution_count": null,
      "outputs": [
        {
          "output_type": "display_data",
          "data": {
            "text/plain": [
              "<Figure size 432x288 with 1 Axes>"
            ],
            "image/png": "[encoded data removed]"
          },
          "metadata": {
            "needs_background": "light"
          }
        }
      ]
    },
    {
      "cell_type": "code",
      "source": [
        "visualisee(x,kmeans.labels_)"
      ],
      "metadata": {
        "colab": {
          "base_uri": "https://localhost:8080/",
          "height": 376
        },
        "id": "rz1Oz5GV0Nza",
        "outputId": "199ec7f6-b28b-49b0-820a-001d92eebca6"
      },
      "id": "rz1Oz5GV0Nza",
      "execution_count": null,
      "outputs": [
        {
          "output_type": "display_data",
          "data": {
            "text/plain": [
              "<Figure size 576x396 with 1 Axes>"
            ],
            "image/png": "[encoded data removed]"
          },
          "metadata": {}
        }
      ]
    },
    {
      "cell_type": "markdown",
      "source": [
        "####Clustering All"
      ],
      "metadata": {
        "id": "yb9BbHyk3d4I"
      },
      "id": "yb9BbHyk3d4I"
    },
    {
      "cell_type": "code",
      "source": [
        "from abc import ABC, abstractmethod\n",
        "from sklearn.cluster import DBSCAN\n",
        "from sklearn.mixture import GaussianMixture\n",
        "\n",
        "class Clustering(ABC):\n",
        "\n",
        "  @abstractmethod\n",
        "  def get_model(self):\n",
        "        pass\n",
        "\n",
        "class Kmeans(Clustering):\n",
        "    def __init__(self,data,n_clusters):  \n",
        "        self.data = data \n",
        "        self.n_clusters = n_clusters  \n",
        "          \n",
        "    def get_model(self):  \n",
        "          kmeans_model = KMeans(n_clusters=self.n_clusters, init='k-means++', random_state= 11) \n",
        "          return kmeans_model\n",
        "\n",
        "class Agglomerative(Clustering):  \n",
        "    def __init__(self,name,data,n_clusters):  \n",
        "        self.name = name\n",
        "        self.data = data \n",
        "        self.n_clusters = n_clusters \n",
        "    def get_model(self):  \n",
        "        agglo = AgglomerativeClustering(n_clusters=n_clusters, linkage=self.name)\n",
        "        return agglo\n",
        "    def print_dendo(self):\n",
        "        linkage_type = self.name\n",
        "        linkage_matrix = linkage(self.data.values, linkage_type)\n",
        "        plt.figure(figsize=(22,18))\n",
        "        dendrogram(linkage_matrix)\n",
        "        plt.show()\n",
        "\n",
        "\n",
        "class DB_SCAN(Clustering):\n",
        "    def __init__(self,data,eps,min_samples):  \n",
        "        self.data = data \n",
        "        self.eps=eps\n",
        "        self.min_samples=min_samples\n",
        "          \n",
        "    def get_model(self):  \n",
        "          dbscan_model = DBSCAN(eps=self.eps,min_samples=self.min_samples) \n",
        "          return dbscan_model  \n",
        "\n",
        "class GMM(Clustering):\n",
        "    def __init__(self,data,n_clusters):  \n",
        "        self.data = data \n",
        "        self.n_clusters = n_clusters  \n",
        "          \n",
        "    def get_model(self):  \n",
        "          gmm = GaussianMixture(n_components=4) \n",
        "          return gmm\n",
        "            \n",
        "\n",
        "\n"
      ],
      "metadata": {
        "id": "1XaNTy4u3g_t"
      },
      "id": "1XaNTy4u3g_t",
      "execution_count": null,
      "outputs": []
    },
    {
      "cell_type": "code",
      "source": [
        "x.shape"
      ],
      "metadata": {
        "colab": {
          "base_uri": "https://localhost:8080/"
        },
        "id": "Zczfvwu0nBwa",
        "outputId": "28641804-5b0d-483a-b28a-c1222f6b3530"
      },
      "id": "Zczfvwu0nBwa",
      "execution_count": null,
      "outputs": [
        {
          "output_type": "execute_result",
          "data": {
            "text/plain": [
              "(1220, 25)"
            ]
          },
          "metadata": {},
          "execution_count": 13
        }
      ]
    },
    {
      "cell_type": "code",
      "source": [
        "p=x.copy()"
      ],
      "metadata": {
        "id": "_5-kpgTynU6A"
      },
      "id": "_5-kpgTynU6A",
      "execution_count": null,
      "outputs": []
    },
    {
      "cell_type": "code",
      "source": [
        "from sklearn.neighbors import NearestNeighbors\n",
        "from matplotlib import pyplot as plt\n",
        "\n",
        "neighbors = NearestNeighbors(n_neighbors=50)\n",
        "neighbors_fit = neighbors.fit(p)\n",
        "distances, indices = neighbors_fit.kneighbors(p)\n",
        "distances = np.sort(distances, axis=0)\n",
        "distances = distances[:,1]\n",
        "plt.plot(distances)"
      ],
      "metadata": {
        "colab": {
          "base_uri": "https://localhost:8080/",
          "height": 282
        },
        "id": "s_DNN1LFnF48",
        "outputId": "69697918-eeed-4640-928a-a7cb6f640e19"
      },
      "id": "s_DNN1LFnF48",
      "execution_count": null,
      "outputs": [
        {
          "output_type": "execute_result",
          "data": {
            "text/plain": [
              "[<matplotlib.lines.Line2D at 0x7f9d4f1ff2d0>]"
            ]
          },
          "metadata": {},
          "execution_count": 15
        },
        {
          "output_type": "display_data",
          "data": {
            "text/plain": [
              "<Figure size 432x288 with 1 Axes>"
            ],
            "image/png": "[encoded data removed]"
          },
          "metadata": {
            "needs_background": "light"
          }
        }
      ]
    },
    {
      "cell_type": "code",
      "source": [
        "c7=DB_SCAN(x,0.5,50)\n",
        "db_model=c7.get_model()\n",
        "y_db=db_model.fit_predict(x)"
      ],
      "metadata": {
        "id": "50XkNigylqoB"
      },
      "id": "50XkNigylqoB",
      "execution_count": null,
      "outputs": []
    },
    {
      "cell_type": "code",
      "source": [
        ""
      ],
      "metadata": {
        "id": "HgophDV4ovi2"
      },
      "id": "HgophDV4ovi2",
      "execution_count": null,
      "outputs": []
    }
  ],
  "metadata": {
    "environment": {
      "kernel": "python3",
      "name": "common-cpu.m93",
      "type": "gcloud",
      "uri": "gcr.io/deeplearning-platform-release/base-cpu:m93"
    },
    "kernelspec": {
      "display_name": "Python 3",
      "language": "python",
      "name": "python3"
    },
    "language_info": {
      "codemirror_mode": {
        "name": "ipython",
        "version": 3
      },
      "file_extension": ".py",
      "mimetype": "text/x-python",
      "name": "python",
      "nbconvert_exporter": "python",
      "pygments_lexer": "ipython3",
      "version": "3.7.12"
    },
    "colab": {
      "name": "Clustering Pipeline.ipynb",
      "provenance": [],
      "toc_visible": true,
      "collapsed_sections": [
        "1ac1073c-f70d-43a3-af6e-377bce4b80ff",
        "bff1ddb1-4ef6-4dee-adc0-cf8afc05cd3f",
        "d158ab22-0d76-4a74-aace-ae1d7feaac62",
        "bb4bb1c3-a21c-4835-81c2-b02ffddbefca",
        "fc5a91d6-7865-4198-a943-d1dded817a32",
        "cd752de6-5692-4132-a8a9-8cd3368c4e55",
        "DmJpQwSQY8LI",
        "ZwyUO_pGocTB",
        "MM5jtWJ21S00",
        "HTLE7zHYG_fu",
        "X7y5svEZzjbZ"
      ]
    }
  },
  "nbformat": 4,
  "nbformat_minor": 5
}